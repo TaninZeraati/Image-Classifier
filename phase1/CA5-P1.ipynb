{
 "cells": [
  {
   "cell_type": "markdown",
   "id": "5632572f",
   "metadata": {},
   "source": [
    "# Assignment5 - Phase1\n",
    "## Tanin Zeraati 810197627"
   ]
  },
  {
   "cell_type": "code",
   "execution_count": 175,
   "id": "19444dc9",
   "metadata": {},
   "outputs": [],
   "source": [
    "import matplotlib.pyplot as plt\n",
    "import numpy as np\n",
    "import pandas as pd\n",
    "import math\n",
    "import csv\n",
    "import matplotlib.pyplot as plt\n",
    "import copy\n",
    "import numbers\n",
    "import random\n",
    "import pylab\n",
    "import matplotlib as mpl"
   ]
  },
  {
   "cell_type": "markdown",
   "id": "842ec356",
   "metadata": {},
   "source": [
    "### Read CSV files"
   ]
  },
  {
   "cell_type": "code",
   "execution_count": 181,
   "id": "6079a149",
   "metadata": {},
   "outputs": [],
   "source": [
    "train_data_ = []\n",
    "with open('dataset/train_images.csv','r') as trainFile:\n",
    "    data_reader = csv.reader(trainFile, delimiter=',', quoting=csv.QUOTE_NONNUMERIC)\n",
    "    for row in data_reader:  \n",
    "        train_data_.append(list(map(int, [x for x in row if isinstance(x, numbers.Number)])))"
   ]
  },
  {
   "cell_type": "code",
   "execution_count": 182,
   "id": "0d132e8c",
   "metadata": {},
   "outputs": [],
   "source": [
    "test_data_ = []\n",
    "with open('dataset/test_images.csv','r') as trainFile:\n",
    "    data_reader = csv.reader(trainFile, delimiter=',', quoting=csv.QUOTE_NONNUMERIC)\n",
    "    for row in data_reader:\n",
    "        test_data_.append(list(map(int, [x for x in row if isinstance(x, numbers.Number)])))"
   ]
  },
  {
   "cell_type": "code",
   "execution_count": 183,
   "id": "62a03de2",
   "metadata": {},
   "outputs": [],
   "source": [
    "train_label_ = []\n",
    "with open('dataset/train_labels.csv','r') as trainFile:\n",
    "    data_reader = csv.reader(trainFile, delimiter=',', quoting=csv.QUOTE_NONNUMERIC)\n",
    "    for row in data_reader:  \n",
    "        train_label_.append(list(map(int, [x for x in row if isinstance(x, numbers.Number)])))"
   ]
  },
  {
   "cell_type": "code",
   "execution_count": 184,
   "id": "a6511a24",
   "metadata": {},
   "outputs": [],
   "source": [
    "test_label_ = []\n",
    "with open('dataset/test_labels.csv','r') as trainFile:\n",
    "    data_reader = csv.reader(trainFile, delimiter=',', quoting=csv.QUOTE_NONNUMERIC)\n",
    "    for row in data_reader:\n",
    "        test_label_.append(list(map(int, [x for x in row if isinstance(x, numbers.Number)])))"
   ]
  },
  {
   "cell_type": "code",
   "execution_count": 2,
   "id": "80ee32ce",
   "metadata": {},
   "outputs": [],
   "source": [
    "train_data = pd.read_csv(\"dataset/train_images.csv\", header = None)\n",
    "test_data = pd.read_csv(\"dataset/test_images.csv\", header = None)\n",
    "train_label = pd.read_csv(\"dataset/train_labels.csv\", header = None)\n",
    "test_label = pd.read_csv(\"dataset/test_labels.csv\", header = None)"
   ]
  },
  {
   "cell_type": "code",
   "execution_count": 3,
   "id": "0cf9354f",
   "metadata": {},
   "outputs": [],
   "source": [
    "train_data = train_data.dropna()\n",
    "test_data = test_data.dropna()\n",
    "train_label = train_label.dropna()\n",
    "test_label = test_label.dropna()"
   ]
  },
  {
   "cell_type": "markdown",
   "id": "05fb8c45",
   "metadata": {},
   "source": [
    "## Part 1"
   ]
  },
  {
   "cell_type": "markdown",
   "id": "e8b79323",
   "metadata": {},
   "source": [
    "### Random Class from Train Data"
   ]
  },
  {
   "cell_type": "code",
   "execution_count": 186,
   "id": "b3ff27f1",
   "metadata": {},
   "outputs": [
    {
     "data": {
      "image/png": "[encoded data removed]",
      "text/plain": [
       "<Figure size 432x288 with 1 Axes>"
      ]
     },
     "metadata": {
      "needs_background": "light"
     },
     "output_type": "display_data"
    },
    {
     "name": "stdout",
     "output_type": "stream",
     "text": [
      "Class Index 1\n",
      "[1.0, 0.0, 0.0, 0.0, 0.0, 0.0, 0.0, 0.0, 0.0, 0.0, 0.0, 0.0, 0.0, 4.0, 63.0, 137.0, 110.0, 51.0, 0.0, 0.0, 0.0, 0.0, 0.0, 0.0, 0.0, 0.0, 0.0, 0.0, 0.0, 0.0, 0.0, 0.0, 0.0, 0.0, 0.0, 0.0, 0.0, 0.0, 0.0, 0.0, 0.0, 30.0, 127.0, 230.0, 255.0, 254.0, 176.0, 13.0, 0.0, 0.0, 0.0, 0.0, 0.0, 0.0, 0.0, 0.0, 0.0, 0.0, 0.0, 0.0, 0.0, 0.0, 0.0, 0.0, 0.0, 0.0, 0.0, 0.0, 0.0, 0.0, 0.0, 25.0, 232.0, 255.0, 255.0, 206.0, 1.0, 0.0, 0.0, 0.0, 0.0, 0.0, 0.0, 0.0, 0.0, 0.0, 0.0, 0.0, 0.0, 0.0, 0.0, 0.0, 0.0, 0.0, 0.0, 0.0, 0.0, 0.0, 0.0, 28.0, 250.0, 255.0, 255.0, 255.0, 37.0, 0.0, 0.0, 0.0, 0.0, 0.0, 0.0, 0.0, 0.0, 0.0, 0.0, 0.0, 0.0, 0.0, 0.0, 0.0, 0.0, 0.0, 0.0, 0.0, 0.0, 0.0, 0.0, 172.0, 255.0, 255.0, 255.0, 218.0, 9.0, 0.0, 0.0, 0.0, 0.0, 0.0, 0.0, 0.0, 0.0, 0.0, 0.0, 0.0, 0.0, 0.0, 0.0, 0.0, 0.0, 0.0, 0.0, 0.0, 0.0, 0.0, 93.0, 255.0, 255.0, 255.0, 249.0, 75.0, 0.0, 0.0, 0.0, 0.0, 0.0, 0.0, 0.0, 0.0, 0.0, 0.0, 0.0, 0.0, 0.0, 0.0, 0.0, 0.0, 0.0, 0.0, 0.0, 0.0, 0.0, 22.0, 244.0, 255.0, 255.0, 255.0, 155.0, 0.0, 0.0, 0.0, 0.0, 0.0, 0.0, 0.0, 0.0, 0.0, 0.0, 0.0, 0.0, 0.0, 0.0, 0.0, 0.0, 0.0, 0.0, 0.0, 0.0, 0.0, 0.0, 170.0, 255.0, 255.0, 254.0, 168.0, 9.0, 0.0, 0.0, 0.0, 0.0, 0.0, 0.0, 0.0, 0.0, 0.0, 0.0, 0.0, 0.0, 0.0, 0.0, 0.0, 0.0, 0.0, 0.0, 0.0, 0.0, 0.0, 84.0, 255.0, 255.0, 255.0, 160.0, 3.0, 0.0, 0.0, 0.0, 0.0, 0.0, 0.0, 0.0, 0.0, 0.0, 0.0, 0.0, 0.0, 0.0, 0.0, 0.0, 0.0, 0.0, 0.0, 0.0, 0.0, 0.0, 19.0, 223.0, 255.0, 255.0, 209.0, 10.0, 0.0, 0.0, 0.0, 0.0, 0.0, 0.0, 0.0, 0.0, 0.0, 0.0, 0.0, 0.0, 0.0, 0.0, 0.0, 0.0, 0.0, 0.0, 0.0, 0.0, 0.0, 0.0, 173.0, 255.0, 255.0, 239.0, 32.0, 0.0, 0.0, 0.0, 0.0, 0.0, 0.0, 0.0, 0.0, 0.0, 0.0, 0.0, 0.0, 0.0, 0.0, 0.0, 0.0, 0.0, 0.0, 0.0, 0.0, 0.0, 0.0, 109.0, 255.0, 255.0, 255.0, 73.0, 0.0, 0.0, 0.0, 0.0, 0.0, 0.0, 0.0, 0.0, 0.0, 0.0, 0.0, 0.0, 0.0, 0.0, 0.0, 0.0, 0.0, 0.0, 0.0, 0.0, 0.0, 0.0, 45.0, 243.0, 255.0, 255.0, 123.0, 0.0, 0.0, 0.0, 0.0, 0.0, 0.0, 0.0, 0.0, 0.0, 0.0, 0.0, 0.0, 0.0, 0.0, 0.0, 0.0, 0.0, 0.0, 0.0, 0.0, 0.0, 0.0, 22.0, 215.0, 255.0, 255.0, 180.0, 3.0, 0.0, 0.0, 0.0, 0.0, 0.0, 0.0, 0.0, 0.0, 0.0, 0.0, 0.0, 0.0, 0.0, 0.0, 0.0, 0.0, 0.0, 0.0, 0.0, 0.0, 0.0, 0.0, 140.0, 255.0, 255.0, 255.0, 45.0, 0.0, 0.0, 0.0, 0.0, 0.0, 0.0, 0.0, 0.0, 0.0, 0.0, 0.0, 0.0, 0.0, 0.0, 0.0, 0.0, 0.0, 0.0, 0.0, 0.0, 0.0, 0.0, 19.0, 251.0, 255.0, 255.0, 255.0, 159.0, 9.0, 0.0, 0.0, 0.0, 0.0, 0.0, 0.0, 0.0, 0.0, 0.0, 0.0, 0.0, 0.0, 0.0, 0.0, 0.0, 0.0, 0.0, 0.0, 0.0, 0.0, 0.0, 10.0, 230.0, 255.0, 255.0, 255.0, 255.0, 191.0, 29.0, 0.0, 0.0, 0.0, 0.0, 0.0, 0.0, 0.0, 0.0, 0.0, 0.0, 0.0, 0.0, 0.0, 0.0, 0.0, 0.0, 0.0, 0.0, 0.0, 0.0, 0.0, 93.0, 249.0, 255.0, 255.0, 255.0, 255.0, 242.0, 152.0, 23.0, 0.0, 0.0, 0.0, 0.0, 0.0, 0.0, 0.0, 0.0, 0.0, 0.0, 0.0, 0.0, 0.0, 0.0, 0.0, 0.0, 0.0, 0.0, 0.0, 0.0, 93.0, 219.0, 255.0, 255.0, 255.0, 255.0, 255.0, 234.0, 140.0, 24.0, 0.0, 0.0, 0.0, 0.0, 0.0, 0.0, 0.0, 0.0, 0.0, 0.0, 0.0, 0.0, 0.0, 0.0, 0.0, 0.0, 0.0, 0.0, 0.0, 11.0, 152.0, 250.0, 255.0, 255.0, 255.0, 255.0, 255.0, 237.0, 91.0, 0.0, 0.0, 0.0, 0.0, 0.0, 0.0, 0.0, 0.0, 0.0, 0.0, 0.0, 0.0, 0.0, 0.0, 0.0, 0.0, 0.0, 0.0, 0.0, 0.0, 70.0, 232.0, 255.0, 255.0, 255.0, 255.0, 255.0, 245.0, 74.0, 0.0, 0.0, 0.0, 0.0, 0.0, 0.0, 0.0, 0.0, 0.0, 0.0, 0.0, 0.0, 0.0, 0.0, 0.0, 2.0, 0.0, 0.0, 0.0, 0.0, 12.0, 130.0, 251.0, 255.0, 255.0, 255.0, 255.0, 247.0, 83.0, 0.0, 0.0, 0.0, 0.0, 0.0, 0.0, 0.0, 0.0, 0.0, 0.0, 0.0, 0.0, 0.0, 0.0, 10.0, 0.0, 0.0, 0.0, 0.0, 0.0, 0.0, 62.0, 238.0, 255.0, 255.0, 255.0, 255.0, 228.0, 5.0, 0.0, 0.0, 0.0, 0.0, 0.0, 0.0, 0.0, 0.0, 0.0, 0.0, 0.0, 0.0, 0.0, 0.0, 0.0, 0.0, 0.0, 0.0, 0.0, 0.0, 0.0, 22.0, 208.0, 255.0, 255.0, 255.0, 255.0, 70.0, 0.0, 0.0, 0.0, 0.0, 0.0, 0.0, 0.0, 0.0, 0.0, 0.0, 0.0, 0.0, 0.0, 0.0, 0.0, 0.0, 0.0, 0.0, 0.0, 0.0, 0.0, 0.0, 10.0, 205.0, 255.0, 255.0, 255.0, 85.0, 0.0, 0.0, 0.0, 0.0, 0.0, 0.0, 0.0, 0.0, 0.0, 0.0, 0.0, 0.0, 0.0, 0.0, 0.0, 0.0, 0.0, 0.0, 0.0, 0.0, 0.0, 0.0, 0.0, 41.0, 207.0, 255.0, 255.0, 85.0, 0.0, 0.0, 0.0, 0.0, 0.0, 0.0, 0.0, 0.0, 0.0, 0.0, 0.0, 0.0, 0.0, 0.0, 0.0, 0.0, 0.0, 0.0, 0.0, 0.0, 0.0, 0.0, 0.0, 0.0, 12.0, 213.0, 255.0, 81.0, 0.0, 0.0, 0.0, 0.0, 0.0, 0.0, 0.0, 0.0, 0.0, 0.0, 0.0, 0.0, 0.0, 0.0, 0.0, 0.0, 0.0, 0.0, 0.0, 0.0, 0.0, 0.0, 0.0, 0.0, 0.0, 23.0, 165.0, 36.0, 0.0, 0.0, 0.0, 0.0, 0.0, 0.0]\n"
     ]
    }
   ],
   "source": [
    "label = random.randint(0,20)\n",
    "if(len(train_data_[label]) > 784):\n",
    "    train_data_[label].pop()\n",
    "new_array = np.reshape(train_data_[label], (28, 28))\n",
    "plt.imshow(new_array)\n",
    "plt.show()\n",
    "\n",
    "train = pd.DataFrame(train_data_)\n",
    "labels = pd.DataFrame(train_label_)\n",
    "print(\"Class Index\", label)\n",
    "print(list(train.loc[labels.groupby(0).get_group(label).index[0]]))"
   ]
  },
  {
   "cell_type": "markdown",
   "id": "cf91edfd",
   "metadata": {},
   "source": [
    "### Choose a Picture from Each Class in Train Data"
   ]
  },
  {
   "cell_type": "code",
   "execution_count": 187,
   "id": "e92bce7d",
   "metadata": {},
   "outputs": [
    {
     "name": "stdout",
     "output_type": "stream",
     "text": [
      "class:  0\n"
     ]
    },
    {
     "data": {
      "image/png": "[encoded data removed]",
      "text/plain": [
       "<Figure size 432x288 with 1 Axes>"
      ]
     },
     "metadata": {
      "needs_background": "light"
     },
     "output_type": "display_data"
    },
    {
     "name": "stdout",
     "output_type": "stream",
     "text": [
      "class:  1\n"
     ]
    },
    {
     "data": {
      "image/png": "[encoded data removed]",
      "text/plain": [
       "<Figure size 432x288 with 1 Axes>"
      ]
     },
     "metadata": {
      "needs_background": "light"
     },
     "output_type": "display_data"
    },
    {
     "name": "stdout",
     "output_type": "stream",
     "text": [
      "class:  2\n"
     ]
    },
    {
     "data": {
      "image/png": "[encoded data removed]",
      "text/plain": [
       "<Figure size 432x288 with 1 Axes>"
      ]
     },
     "metadata": {
      "needs_background": "light"
     },
     "output_type": "display_data"
    },
    {
     "name": "stdout",
     "output_type": "stream",
     "text": [
      "class:  3\n"
     ]
    },
    {
     "data": {
      "image/png": "[encoded data removed]",
      "text/plain": [
       "<Figure size 432x288 with 1 Axes>"
      ]
     },
     "metadata": {
      "needs_background": "light"
     },
     "output_type": "display_data"
    },
    {
     "name": "stdout",
     "output_type": "stream",
     "text": [
      "class:  4\n"
     ]
    },
    {
     "data": {
      "image/png": "[encoded data removed]",
      "text/plain": [
       "<Figure size 432x288 with 1 Axes>"
      ]
     },
     "metadata": {
      "needs_background": "light"
     },
     "output_type": "display_data"
    },
    {
     "name": "stdout",
     "output_type": "stream",
     "text": [
      "class:  5\n"
     ]
    },
    {
     "data": {
      "image/png": "[encoded data removed]",
      "text/plain": [
       "<Figure size 432x288 with 1 Axes>"
      ]
     },
     "metadata": {
      "needs_background": "light"
     },
     "output_type": "display_data"
    },
    {
     "name": "stdout",
     "output_type": "stream",
     "text": [
      "class:  6\n"
     ]
    },
    {
     "data": {
      "image/png": "[encoded data removed]",
      "text/plain": [
       "<Figure size 432x288 with 1 Axes>"
      ]
     },
     "metadata": {
      "needs_background": "light"
     },
     "output_type": "display_data"
    },
    {
     "name": "stdout",
     "output_type": "stream",
     "text": [
      "class:  7\n"
     ]
    },
    {
     "data": {
      "image/png": "[encoded data removed]",
      "text/plain": [
       "<Figure size 432x288 with 1 Axes>"
      ]
     },
     "metadata": {
      "needs_background": "light"
     },
     "output_type": "display_data"
    },
    {
     "name": "stdout",
     "output_type": "stream",
     "text": [
      "class:  8\n"
     ]
    },
    {
     "data": {
      "image/png": "[encoded data removed]",
      "text/plain": [
       "<Figure size 432x288 with 1 Axes>"
      ]
     },
     "metadata": {
      "needs_background": "light"
     },
     "output_type": "display_data"
    },
    {
     "name": "stdout",
     "output_type": "stream",
     "text": [
      "class:  9\n"
     ]
    },
    {
     "data": {
      "image/png": "[encoded data removed]",
      "text/plain": [
       "<Figure size 432x288 with 1 Axes>"
      ]
     },
     "metadata": {
      "needs_background": "light"
     },
     "output_type": "display_data"
    },
    {
     "name": "stdout",
     "output_type": "stream",
     "text": [
      "class:  10\n"
     ]
    },
    {
     "data": {
      "image/png": "[encoded data removed]",
      "text/plain": [
       "<Figure size 432x288 with 1 Axes>"
      ]
     },
     "metadata": {
      "needs_background": "light"
     },
     "output_type": "display_data"
    },
    {
     "name": "stdout",
     "output_type": "stream",
     "text": [
      "class:  11\n"
     ]
    },
    {
     "data": {
      "image/png": "[encoded data removed]",
      "text/plain": [
       "<Figure size 432x288 with 1 Axes>"
      ]
     },
     "metadata": {
      "needs_background": "light"
     },
     "output_type": "display_data"
    },
    {
     "name": "stdout",
     "output_type": "stream",
     "text": [
      "class:  12\n"
     ]
    },
    {
     "data": {
      "image/png": "[encoded data removed]",
      "text/plain": [
       "<Figure size 432x288 with 1 Axes>"
      ]
     },
     "metadata": {
      "needs_background": "light"
     },
     "output_type": "display_data"
    },
    {
     "name": "stdout",
     "output_type": "stream",
     "text": [
      "class:  13\n"
     ]
    },
    {
     "data": {
      "image/png": "[encoded data removed]",
      "text/plain": [
       "<Figure size 432x288 with 1 Axes>"
      ]
     },
     "metadata": {
      "needs_background": "light"
     },
     "output_type": "display_data"
    },
    {
     "name": "stdout",
     "output_type": "stream",
     "text": [
      "class:  14\n"
     ]
    },
    {
     "data": {
      "image/png": "[encoded data removed]",
      "text/plain": [
       "<Figure size 432x288 with 1 Axes>"
      ]
     },
     "metadata": {
      "needs_background": "light"
     },
     "output_type": "display_data"
    },
    {
     "name": "stdout",
     "output_type": "stream",
     "text": [
      "class:  15\n"
     ]
    },
    {
     "data": {
      "image/png": "[encoded data removed]",
      "text/plain": [
       "<Figure size 432x288 with 1 Axes>"
      ]
     },
     "metadata": {
      "needs_background": "light"
     },
     "output_type": "display_data"
    },
    {
     "name": "stdout",
     "output_type": "stream",
     "text": [
      "class:  16\n"
     ]
    },
    {
     "data": {
      "image/png": "[encoded data removed]",
      "text/plain": [
       "<Figure size 432x288 with 1 Axes>"
      ]
     },
     "metadata": {
      "needs_background": "light"
     },
     "output_type": "display_data"
    },
    {
     "name": "stdout",
     "output_type": "stream",
     "text": [
      "class:  17\n"
     ]
    },
    {
     "data": {
      "image/png": "[encoded data removed]",
      "text/plain": [
       "<Figure size 432x288 with 1 Axes>"
      ]
     },
     "metadata": {
      "needs_background": "light"
     },
     "output_type": "display_data"
    },
    {
     "name": "stdout",
     "output_type": "stream",
     "text": [
      "class:  18\n"
     ]
    },
    {
     "data": {
      "image/png": "[encoded data removed]",
      "text/plain": [
       "<Figure size 432x288 with 1 Axes>"
      ]
     },
     "metadata": {
      "needs_background": "light"
     },
     "output_type": "display_data"
    },
    {
     "name": "stdout",
     "output_type": "stream",
     "text": [
      "class:  19\n"
     ]
    },
    {
     "data": {
      "image/png": "[encoded data removed]",
      "text/plain": [
       "<Figure size 432x288 with 1 Axes>"
      ]
     },
     "metadata": {
      "needs_background": "light"
     },
     "output_type": "display_data"
    }
   ],
   "source": [
    "selectedFromClass = [False]*20\n",
    "indexes = [0]*20\n",
    "i = 1\n",
    "for label in train_label_:\n",
    "    if len(label) == 1:\n",
    "        continue\n",
    "    if selectedFromClass[label[1]] == False:\n",
    "        selectedFromClass[label[1]] = True\n",
    "        indexes[label[1]] = i\n",
    "    if selectedFromClass == [True]*20:\n",
    "        break\n",
    "    i += 1\n",
    "for index in indexes:\n",
    "    while(len(train_data_[index]) > 784):\n",
    "        train_data_[index].pop()\n",
    "    new_array = np.reshape(train_data_[index], (28, 28))\n",
    "    print(\"class: \",train_label_[index][1])\n",
    "    plt.imshow(new_array)\n",
    "    plt.show()"
   ]
  },
  {
   "cell_type": "markdown",
   "id": "40db06ac",
   "metadata": {},
   "source": [
    "### The Frequency of Each Class in Train Data"
   ]
  },
  {
   "cell_type": "code",
   "execution_count": 188,
   "id": "d22c6998",
   "metadata": {},
   "outputs": [
    {
     "data": {
      "image/png": "[encoded data removed]",
      "text/plain": [
       "<Figure size 432x288 with 1 Axes>"
      ]
     },
     "metadata": {
      "needs_background": "light"
     },
     "output_type": "display_data"
    }
   ],
   "source": [
    "number_of_class_train = {'0': 0, '1': 0, '2': 0, '3': 0, '4': 0,'5': 0, '6': 0,\n",
    "                          '7': 0, '8': 0, '9': 0,'10': 0, '11': 0, '12': 0, '13': 0,\n",
    "                          '14': 0,'15': 0, '16': 0, '17': 0, '18': 0, '19': 0, '20': 0}\n",
    "for label in train_label_:\n",
    "    if(len(label) == 1):\n",
    "        number_of_class_train[str(label[0])] += 1\n",
    "    else:\n",
    "        number_of_class_train[str(label[1])] += 1\n",
    "    \n",
    "plt.bar(number_of_class_train.keys(), number_of_class_train.values(), color='g')\n",
    "plt.xlabel(\"Data classes\")\n",
    "plt.ylabel(\"Class frequency\")\n",
    "plt.title(\"Class frequncy in train data\")\n",
    "plt.show();"
   ]
  },
  {
   "cell_type": "code",
   "execution_count": 189,
   "id": "a9f21c72",
   "metadata": {},
   "outputs": [
    {
     "data": {
      "image/png": "[encoded data removed]",
      "text/plain": [
       "<Figure size 432x288 with 1 Axes>"
      ]
     },
     "metadata": {
      "needs_background": "light"
     },
     "output_type": "display_data"
    }
   ],
   "source": [
    "number_of_class_test = {'0': 0, '1': 0, '2': 0, '3': 0, '4': 0,'5': 0, '6': 0,\n",
    "                          '7': 0, '8': 0, '9': 0,'10': 0, '11': 0, '12': 0, '13': 0,\n",
    "                          '14': 0,'15': 0, '16': 0, '17': 0, '18': 0, '19': 0, '20': 0}\n",
    "for label in test_label_:\n",
    "    if(len(label) == 1):\n",
    "        number_of_class_test[str(label[0])] += 1\n",
    "    else:\n",
    "        number_of_class_test[str(label[1])] += 1\n",
    "    \n",
    "\n",
    "plt.bar(number_of_class_test.keys(), number_of_class_test.values(), color='g')\n",
    "plt.xlabel(\"Data classes\")\n",
    "plt.ylabel(\"Class frequency\")\n",
    "plt.title(\"Class frequncy in test data\")\n",
    "plt.show();"
   ]
  },
  {
   "cell_type": "markdown",
   "id": "043fa072",
   "metadata": {},
   "source": [
    "### Normalized (Standard)"
   ]
  },
  {
   "cell_type": "code",
   "execution_count": 129,
   "id": "dffd398d",
   "metadata": {},
   "outputs": [],
   "source": [
    "dv = math.sqrt(255/12) \n",
    "dev = 255/6\n",
    "normalized_train_data=np.matrix(train_data)\n",
    "normalized_test_data=np.matrix(test_data)\n",
    "normalized_train_data = normalized_train_data[:,:-1]\n",
    "normalized_test_data = normalized_test_data[:,:-1]\n",
    "\n",
    "for i in range(len(normalized_train_data)):\n",
    "    for j in range(len(normalized_train_data[i])):\n",
    "        normalized_train_data[i][j] = normalized_train_data[i][j] / 2550\n",
    "    \n",
    "for i in range(len(normalized_test_data)):\n",
    "    for j in range(len(normalized_test_data[i])):\n",
    "        normalized_test_data[i][j] = normalized_test_data[i][j] / 2550"
   ]
  },
  {
   "cell_type": "markdown",
   "id": "ad4a7cef",
   "metadata": {},
   "source": [
    "## Part 2"
   ]
  },
  {
   "cell_type": "markdown",
   "id": "ccc5e947",
   "metadata": {},
   "source": [
    "# Dataloader"
   ]
  },
  {
   "cell_type": "code",
   "execution_count": 91,
   "id": "5a11fa8f",
   "metadata": {},
   "outputs": [],
   "source": [
    "class Dataloader:\n",
    "    \n",
    "    def __init__(self, data, labels, n_classes, batch_size=None, shuffle=False):\n",
    "        assert len(data)==len(labels)\n",
    "        self.__n_classes = n_classes\n",
    "        self.__batch_size = batch_size\n",
    "        self.__shuffle = shuffle\n",
    "        self.__data = data\n",
    "        self.__onehot_labels = self.__onehot(labels, self.__n_classes)\n",
    "    \n",
    "    def __onehot(self, labels, n_classes):\n",
    "        result = list()\n",
    "        for label in labels:\n",
    "            result.append([0 for i in range(n_classes)])\n",
    "            result[len(result)-1][int(label)] = 1\n",
    "        onehot_vectors = np.array(result)\n",
    "        return onehot_vectors\n",
    "    \n",
    "    def __shuffle_dataset(self):\n",
    "        randomIndexes = np.arange(self.__data.shape[0])\n",
    "        np.random.shuffle(randomIndexes)\n",
    "        self.__data = self.__data[randomIndexes] \n",
    "        self.__onehot_labels = self.__onehot_labels[randomIndexes] \n",
    "    \n",
    "    def __iter__(self):\n",
    "        \n",
    "        if self.__shuffle:\n",
    "            self.__shuffle_dataset()\n",
    "            \n",
    "        if self.__batch_size==None:\n",
    "            yield (np.matrix(self.__data), np.matrix(self.__onehot_labels))\n",
    "            return\n",
    "            \n",
    "        for idx in range(0, len(self.__data), self.__batch_size):\n",
    "            yield (np.matrix(self.__data[idx:idx+self.__batch_size]), \n",
    "                   np.matrix(self.__onehot_labels[idx:idx+self.__batch_size]))\n",
    "    def shape(self):\n",
    "        return self.shape"
   ]
  },
  {
   "cell_type": "markdown",
   "id": "c75dbee2",
   "metadata": {},
   "source": [
    "# Activation Functions"
   ]
  },
  {
   "cell_type": "code",
   "execution_count": 160,
   "id": "ddc5c56c",
   "metadata": {},
   "outputs": [],
   "source": [
    "class Identical:\n",
    "    \n",
    "    def __init__(self): pass\n",
    "    \n",
    "    def __val(self, matrix):\n",
    "        identical_value = np.matrix(matrix, dtype=float)\n",
    "        return identical_value\n",
    "\n",
    "    def derivative(self, matrix):\n",
    "        temp = np.matrix(matrix, dtype=float)\n",
    "        identical_derivative = np.matrix(np.full(np.shape(temp), 1.))\n",
    "        return identical_derivative\n",
    "    \n",
    "    def __call__(self, matrix):\n",
    "        return self.__val(matrix)\n",
    "    \n",
    "\n",
    "class Relu:\n",
    "    \n",
    "    def __init__(self): pass\n",
    "    \n",
    "    def __val(self, matrix):\n",
    "        relu_value = np.matrix(matrix, dtype=float)\n",
    "        relu_value[relu_value<0] = 0\n",
    "        return relu_value\n",
    "\n",
    "    def derivative(self, matrix):\n",
    "        relu_derivative = np.matrix(matrix, dtype=float)\n",
    "        relu_derivative[relu_derivative>0] = 1.\n",
    "        relu_derivative[relu_derivative<0] = 0.\n",
    "        return relu_derivative\n",
    "    \n",
    "    def __call__(self, matrix):\n",
    "        return self.__val(matrix)\n",
    "\n",
    "    \n",
    "class LeakyRelu:\n",
    "    \n",
    "    def __init__(self, negative_slope=0.01):\n",
    "        self.negative_slope = 0.01\n",
    "    \n",
    "    def __val(self, matrix):\n",
    "        leacky_relu_value = np.matrix(matrix, dtype=float)\n",
    "        leacky_relu_value_copy = copy.copy(leacky_relu_value)\n",
    "        leacky_relu_value_copy[leacky_relu_value_copy>0] = 0\n",
    "        leacky_relu_value_copy = leacky_relu_value_copy * 0.01\n",
    "        leacky_relu_value[leacky_relu_value<0] = 0\n",
    "        leacky_relu_value = leacky_relu_value + leacky_relu_value_copy\n",
    "        return leacky_relu_value\n",
    "\n",
    "    def derivative(self, matrix):\n",
    "        leacky_relu_derivative = np.matrix(matrix, dtype=float)\n",
    "        leacky_relu_derivative[leacky_relu_derivative>0] = 1.\n",
    "        leacky_relu_derivative[leacky_relu_derivative<=0] = 0.01\n",
    "        return leacky_relu_derivative\n",
    "    \n",
    "    def __call__(self, matrix):\n",
    "        return self.__val(matrix)\n",
    "\n",
    "    \n",
    "class Sigmoid:\n",
    "    \n",
    "    def __init__(self): pass\n",
    "\n",
    "    def __val(self, matrix):\n",
    "        temp = np.matrix(matrix, dtype=float)\n",
    "        sigmoid_value = 1/(1+np.exp(-temp))\n",
    "#         sigmoid_value = sigmoid_value*(1-sigmoid_value)\n",
    "        return sigmoid_value\n",
    "\n",
    "    def derivative(self, matrix):\n",
    "        temp = np.matrix(matrix, dtype=float)\n",
    "        sigmoid_derivative = 1/(1+np.exp(-temp))\n",
    "        sigmoid_derivative = np.multiply(sigmoid_derivative, 1-sigmoid_derivative)\n",
    "        return sigmoid_derivative\n",
    "    \n",
    "    def __call__(self, matrix):\n",
    "        return self.__val(matrix)\n",
    "\n",
    "\n",
    "class Softmax:\n",
    "    \n",
    "    def __init__(self): pass\n",
    "\n",
    "    def __val(self, matrix):\n",
    "        softmax_value = np.matrix(matrix, dtype=float)\n",
    "        for i in range(softmax_value.shape[0]):\n",
    "            softmax_value[i] = softmax_value[i] - softmax_value[i].max()\n",
    "        softmax_value = np.exp(softmax_value)\n",
    "        for i in range(softmax_value.shape[0]):\n",
    "            sumOfRow = softmax_value[i].sum()\n",
    "            softmax_value[i] = softmax_value[i] / sumOfRow\n",
    "        return softmax_value\n",
    "    \n",
    "    def __call__(self, matrix):\n",
    "        return self.__val(matrix)\n",
    "    \n",
    "\n",
    "class Tanh:\n",
    "    \n",
    "    def __init__(self): pass\n",
    "\n",
    "    def __val(self, matrix):\n",
    "        temp = np.matrix(matrix, dtype=float)\n",
    "        tanh_value = (np.exp(temp)-np.exp(-temp))/(np.exp(temp)+np.exp(-temp))\n",
    "#         tanh_value = 1-tanh_value**2\n",
    "        return tanh_value\n",
    "\n",
    "    def derivative(self, matrix):\n",
    "        temp = np.matrix(matrix, dtype=float)\n",
    "        tanh_derivative = (np.exp(temp)-np.exp(-temp))/(np.exp(temp)+np.exp(-temp))\n",
    "#         tanh_derivative = np.subtract(1,tanh_derivative**2)\n",
    "        tanh_derivative = np.multiply(tanh_derivative, tanh_derivative)\n",
    "        tanh_derivative = np.subtract(1, tanh_derivative)\n",
    "        return tanh_derivative\n",
    "    \n",
    "    def __call__(self, matrix):\n",
    "        return self.__val(matrix)"
   ]
  },
  {
   "cell_type": "markdown",
   "id": "7e239049",
   "metadata": {},
   "source": [
    "# Loss Function"
   ]
  },
  {
   "cell_type": "code",
   "execution_count": 93,
   "id": "177848fe",
   "metadata": {},
   "outputs": [],
   "source": [
    "class CrossEntropy: #(with softmax)\n",
    "    \n",
    "    def __init__(self):\n",
    "        self.__softmax = Softmax()\n",
    "\n",
    "    def __val(self, true_val, expected_val):\n",
    "        assert np.shape(true_val)==np.shape(expected_val)\n",
    "        vals = []\n",
    "        expected_val_softmax = np.log(self.__softmax(expected_val))\n",
    "        for i in range(true_val.shape[0]):\n",
    "            loss = 0\n",
    "            for j in range(true_val.shape[1]):\n",
    "                loss += true_val[i,j] * expected_val_softmax[i,j]\n",
    "            vals.append(loss * -1)\n",
    "        vals = np.array(vals)\n",
    "        cross_entropy_value = np.vstack(vals)\n",
    "        return cross_entropy_value\n",
    "        \n",
    "    def derivative(self, true_val, expected_val):\n",
    "        assert np.shape(true_val)==np.shape(expected_val)\n",
    "        cross_entropy_derivative = self.__softmax(expected_val)\n",
    "        cross_entropy_derivative = cross_entropy_derivative - true_val\n",
    "        return cross_entropy_derivative\n",
    "    \n",
    "    def __call__(self, true_val, expected_val):\n",
    "        return self.__val(true_val, expected_val)"
   ]
  },
  {
   "cell_type": "markdown",
   "id": "1dc686fc",
   "metadata": {},
   "source": [
    "# Layer"
   ]
  },
  {
   "cell_type": "code",
   "execution_count": 168,
   "id": "dccf93bc",
   "metadata": {},
   "outputs": [],
   "source": [
    "class Layer:\n",
    "\n",
    "    DEFAULT_LOW, DEFAULT_HIGH, DEFAULT_MEAN, DEFAULT_VAR = 0, 0.05, 0., 1.\n",
    "  \n",
    "    def __init__(self, input_size, output_size, \n",
    "                 activation=Identical(), initial_weight='uniform', **initializing_parameters):\n",
    "        \n",
    "        assert type(initial_weight)==str, 'Undefined activation function!'\n",
    "        \n",
    "        self.__weight_initializer_dict = {'uniform':self.__uniform_weight, 'normal':self.__normal_weight}\n",
    "        \n",
    "        assert initial_weight in self.__weight_initializer_dict, 'Undefined weight initialization function!'\n",
    "\n",
    "\n",
    "        self.__n_neurons = output_size\n",
    "        weight_initializer = self.__weight_initializer_dict[initial_weight]\n",
    "        self.__weight = weight_initializer(input_size, self.__n_neurons, **initializing_parameters)\n",
    "        self.__bias = weight_initializer(1, self.__n_neurons, **initializing_parameters)\n",
    "        self.__activation = activation\n",
    "        \n",
    "        self.__last_input = None\n",
    "        self.__last_activation_input = None\n",
    "        self.__last_activation_output = None\n",
    "        self.__last_activation_derivative = None\n",
    "        \n",
    "    def forward(self, layer_input):\n",
    "        assert np.ndim(layer_input)==2\n",
    "        \n",
    "        assert np.size(self.__weight,0) == np.size(layer_input,1), 'Weight shape 0 {} and Layer shape 1 {}'.format(np.size(self.__weight,0),np.size(layer_input,1))\n",
    "        self.__last_input = layer_input\n",
    "        self.__last_activation_input = np.matmul(layer_input, self.__weight) + self.__bias\n",
    "        self.__last_activation_output = self.__activation(self.__last_activation_input)\n",
    "        self.__last_activation_derivative = self.__activation.derivative(self.__last_activation_input)\n",
    "        return self.__last_activation_output\n",
    "    \n",
    "    \n",
    "    def update_weights(self, backprop_tensor, lr):\n",
    "        assert np.ndim(backprop_tensor)==2\n",
    "        assert np.size(backprop_tensor,0) == np.size(self.__last_activation_derivative,0)\n",
    "        assert np.size(backprop_tensor,1) == self.__n_neurons\n",
    "        bias_mul = np.ones(np.size(backprop_tensor,0))\n",
    "        bias_mul = np.asmatrix(bias_mul)\n",
    "        derivation_of_L_to_Y = np.multiply(self.__last_activation_derivative, backprop_tensor)\n",
    "        derivation_of_L_to_W = np.matmul(self.__last_input.T, derivation_of_L_to_Y)\n",
    "        derivation_of_L_to_B = np.matmul(bias_mul, derivation_of_L_to_Y)\n",
    "        backprop_tensor = np.matmul(derivation_of_L_to_Y, self.__weight.T)\n",
    "        self.__weight = self.__weight - lr * derivation_of_L_to_W\n",
    "        self.__bias = self.__bias - lr * derivation_of_L_to_B\n",
    "        return backprop_tensor\n",
    "\n",
    "    def __uniform_weight(self, dim1, dim2, **initializing_parameters):\n",
    "        low, high = self.DEFAULT_LOW, self.DEFAULT_HIGH\n",
    "        if 'low' in initializing_parameters.keys(): low = initializing_parameters['low']\n",
    "        if 'high' in initializing_parameters.keys(): high = initializing_parameters['high']\n",
    "        weights = np.random.uniform(low = low, high = high, size = (dim1,dim2))\n",
    "        weights = np.asmatrix(weights)\n",
    "        return weights\n",
    "\n",
    "    def __normal_weight(self, dim1, dim2, **initializing_parameters):\n",
    "        mean, var = self.DEFAULT_MEAN, self.DEFAULT_VAR\n",
    "        if 'mean' in initializing_parameters.keys(): mean = initializing_parameters['mean']\n",
    "        if 'var' in initializing_parameters.keys(): var = initializing_parameters['var']\n",
    "        weights = np.random.normal(loc = mean, scale = math.sqrt(var), size = (dim1,dim2))\n",
    "        weights = np.asmatrix(weights)\n",
    "        return weights\n",
    "    \n",
    "    \n",
    "    \n",
    "    @property\n",
    "    def n_neurons(self): return self.__n_neurons\n",
    "    \n",
    "    @property\n",
    "    def weight(self): return self.__weight\n",
    "    \n",
    "    @property\n",
    "    def bias(self): return self.__bias\n",
    "    \n",
    "    @property\n",
    "    def activation(self): return self.__activation"
   ]
  },
  {
   "cell_type": "markdown",
   "id": "71120b8f",
   "metadata": {},
   "source": [
    "# Feed Forward Neural Network"
   ]
  },
  {
   "cell_type": "code",
   "execution_count": 169,
   "id": "4134d3d0",
   "metadata": {},
   "outputs": [],
   "source": [
    "class FeedForwardNN:\n",
    "    \n",
    "    def __init__(self, input_shape):\n",
    "        \n",
    "        self.__input_shape = input_shape\n",
    "        self.__output_shape = None\n",
    "        \n",
    "        self.__layers_list = []\n",
    "        \n",
    "        self.__lr = None\n",
    "        self.__loss = None\n",
    "\n",
    "        \n",
    "    def add_layer(self, n_neurons, activation=Relu(), initial_weight='uniform', **initializing_parameters):\n",
    "         \n",
    "        assert type(n_neurons)==int, \"Invalid number of neurons for the layer!\"\n",
    "        assert n_neurons>0, \"Invalid number of neurons for the layer!\"\n",
    "        \n",
    "        n_prev_neurons = self.__input_shape if len(self.__layers_list)==0 else self.__layers_list[-1].n_neurons\n",
    "        new_layer = Layer(n_prev_neurons, n_neurons, activation, initial_weight, **initializing_parameters)\n",
    "        self.__layers_list.append(new_layer)\n",
    "        self.__output_shape = self.__layers_list[-1].n_neurons \n",
    "      \n",
    "    \n",
    "    def set_training_param(self, loss=CrossEntropy(), lr=1e-3):\n",
    "        assert self.__layers_list, \"Uncomplete model!\"\n",
    "        self.__loss = loss\n",
    "        self.__lr = lr\n",
    "    \n",
    "    \n",
    "    def forward(self, network_input):\n",
    "        assert type(self.__output_shape) != None, \"Model is not compiled!\"\n",
    "        for layer in self.__layers_list:\n",
    "            network_input = layer.forward(network_input)\n",
    "        network_output = network_input\n",
    "        return network_output\n",
    "    \n",
    "    \n",
    "    def fit(self, epochs, trainloader, testloader=None, print_results=True):\n",
    "        \n",
    "        assert type(self.__output_shape) != None, \"Model is not compiled!\"\n",
    "        assert type(self.__lr) != None and type(self.__loss) != None, \"Training paramenters are not set!\"\n",
    "\n",
    "        log = {\"train_accuracy\":[], \"train_loss\":[], \"test_accuracy\":[], \"test_loss\":[]}\n",
    "        \n",
    "        for epoch in range(1, epochs+1):\n",
    "            \n",
    "            if print_results: \n",
    "                print('Epoch {}:'.format(epoch)) \n",
    "                \n",
    "            average_accuracy, average_loss = self.__train(trainloader)\n",
    "            log['train_accuracy'].append(average_accuracy)\n",
    "            log['train_loss'].append(average_loss)\n",
    "            if print_results:\n",
    "                print('\\tTrain: Average Accuracy: {}\\tAverage Loss: {}'.format(average_accuracy, average_loss))\n",
    "            \n",
    "            if type(testloader) != type(None):\n",
    "                average_accuracy, average_loss = self.__test(testloader)\n",
    "                log['test_accuracy'].append(average_accuracy)\n",
    "                log['test_loss'].append(average_loss)\n",
    "                if print_results:\n",
    "                    print('\\tTest: Average Accuracy: {}\\tAverage Loss: {}'.format(average_accuracy, average_loss))\n",
    "                    \n",
    "        return log\n",
    "    \n",
    "    \n",
    "    def __train(self, trainloader):\n",
    "        bach_accuracies, batch_losses = [], []\n",
    "        for x_train, y_train in trainloader:\n",
    "            batch_accuracy, batch_loss = self.__train_on_batch(x_train, y_train)\n",
    "            bach_accuracies.append(batch_accuracy)\n",
    "            batch_losses.append(batch_loss)\n",
    "        return np.mean(bach_accuracies), np.mean(batch_losses)\n",
    "    \n",
    "    \n",
    "    def __test(self, testloader):\n",
    "        bach_accuracies, batch_losses = [], []\n",
    "        for x_test, y_test in testloader:\n",
    "            batch_accuracy, batch_loss = self.__test_on_batch(x_test, y_test)\n",
    "            bach_accuracies.append(batch_accuracy)\n",
    "            batch_losses.append(batch_loss)\n",
    "        return np.mean(bach_accuracies), np.mean(batch_losses)\n",
    "\n",
    "    \n",
    "    def __train_on_batch(self, x_batch, y_batch):\n",
    "        batch_res = self.forward(x_batch)\n",
    "        batch_accuracy = self.__compute_accuracy(batch_res, y_batch)\n",
    "        batch_losses = self.__loss(y_batch, batch_res)\n",
    "        batch_average_loss = np.mean(batch_losses)\n",
    "        self.__update_weights(batch_res, y_batch)\n",
    "        return (batch_accuracy, batch_average_loss)\n",
    "        \n",
    "        \n",
    "    def __test_on_batch(self, x_batch, y_batch):\n",
    "        batch_res = self.forward(x_batch)\n",
    "        batch_accuracy = self.__compute_accuracy(batch_res, y_batch)\n",
    "        batch_losses = self.__loss(y_batch, batch_res)\n",
    "        batch_average_loss = np.mean(batch_losses)\n",
    "        return (batch_accuracy, batch_average_loss)\n",
    "            \n",
    "        \n",
    "    def __get_labels(self, outputs):\n",
    "        labels = []\n",
    "        for i in range(outputs.shape[0]):\n",
    "            labels.append([])\n",
    "            is_set = False\n",
    "            max_prob = 0\n",
    "            index = 0\n",
    "            for j in range(outputs.shape[1]):\n",
    "                labels[i].append(0)\n",
    "                if is_set:\n",
    "                    if max_prob < outputs[i,j]:\n",
    "                        max_prob = outputs[i,j]\n",
    "                        index = j\n",
    "                else:\n",
    "                    max_prob = outputs[i,j]\n",
    "                    index = j\n",
    "                    is_set = True\n",
    "            labels[i][index] = 1\n",
    "        labels = np.array(labels)\n",
    "        labels = np.asmatrix(labels)\n",
    "        return labels\n",
    "    \n",
    "    \n",
    "    def __compute_accuracy(self, output, expected_output):\n",
    "        output = self.__get_labels(output)\n",
    "        true_prediction = 0\n",
    "        all_prediction = 0\n",
    "        for i in range(output.shape[0]):\n",
    "            all_prediction += 1\n",
    "            if np.array(output)[i].tolist() == np.array(expected_output)[i].tolist():\n",
    "                true_prediction += 1\n",
    "        accuracy = true_prediction / all_prediction\n",
    "        return accuracy\n",
    "    \n",
    "    \n",
    "    def __update_weights(self, output, y_train):\n",
    "        derivation_of_layer = self.__loss.derivative(y_train, output)\n",
    "        for layer in reversed(self.__layers_list):\n",
    "            derivation_of_layer = layer.update_weights(derivation_of_layer, self.__lr)\n",
    "        return"
   ]
  },
  {
   "cell_type": "markdown",
   "id": "4e77b948",
   "metadata": {},
   "source": [
    "## Part 3"
   ]
  },
  {
   "cell_type": "code",
   "execution_count": 130,
   "id": "e531fcc5",
   "metadata": {},
   "outputs": [],
   "source": [
    "_train_label = train_label[1].to_numpy()\n",
    "_test_label = test_label[1].to_numpy()\n",
    "_train_label = _train_label.reshape(60000,1)\n",
    "_test_label = _test_label.reshape(15000,1)"
   ]
  },
  {
   "cell_type": "markdown",
   "id": "eaf707e2",
   "metadata": {},
   "source": [
    "### Relu"
   ]
  },
  {
   "cell_type": "code",
   "execution_count": 195,
   "id": "fdf96247",
   "metadata": {},
   "outputs": [
    {
     "name": "stdout",
     "output_type": "stream",
     "text": [
      "Epoch 1:\n",
      "\tTrain: Average Accuracy: 0.10462753198294243\tAverage Loss: 2.859179902088401\n",
      "\tTest: Average Accuracy: 0.1669326241134752\tAverage Loss: 2.7752001088362763\n",
      "Epoch 2:\n",
      "\tTrain: Average Accuracy: 0.18610074626865672\tAverage Loss: 2.664977726141793\n",
      "\tTest: Average Accuracy: 0.24878102836879434\tAverage Loss: 2.50578932849991\n",
      "Epoch 3:\n",
      "\tTrain: Average Accuracy: 0.2861640458422175\tAverage Loss: 2.406698920590989\n",
      "\tTest: Average Accuracy: 0.3807402482269504\tAverage Loss: 2.2207102626377804\n",
      "Epoch 4:\n",
      "\tTrain: Average Accuracy: 0.3579757462686567\tAverage Loss: 2.1889095673368786\n",
      "\tTest: Average Accuracy: 0.41582446808510637\tAverage Loss: 2.0323494303220904\n",
      "Epoch 5:\n",
      "\tTrain: Average Accuracy: 0.423857276119403\tAverage Loss: 1.9658441589520845\n",
      "\tTest: Average Accuracy: 0.4686613475177305\tAverage Loss: 1.8453166539433996\n",
      "Epoch 6:\n",
      "\tTrain: Average Accuracy: 0.4671508528784648\tAverage Loss: 1.8238868476919916\n",
      "\tTest: Average Accuracy: 0.5083998226950355\tAverage Loss: 1.7266907783592127\n",
      "Epoch 7:\n",
      "\tTrain: Average Accuracy: 0.5043310234541578\tAverage Loss: 1.6944207532441868\n",
      "\tTest: Average Accuracy: 0.5265070921985816\tAverage Loss: 1.6412993487047294\n",
      "Epoch 8:\n",
      "\tTrain: Average Accuracy: 0.535331156716418\tAverage Loss: 1.586914718656971\n",
      "\tTest: Average Accuracy: 0.5304742907801419\tAverage Loss: 1.608231030457881\n",
      "Epoch 9:\n",
      "\tTrain: Average Accuracy: 0.5640491737739872\tAverage Loss: 1.4847338168178725\n",
      "\tTest: Average Accuracy: 0.535793439716312\tAverage Loss: 1.579525384058419\n",
      "Epoch 10:\n",
      "\tTrain: Average Accuracy: 0.5803904584221748\tAverage Loss: 1.4278004343349346\n",
      "\tTest: Average Accuracy: 0.57145390070922\tAverage Loss: 1.4942657484359474\n",
      "Epoch 11:\n",
      "\tTrain: Average Accuracy: 0.6002132196162047\tAverage Loss: 1.364463650076532\n",
      "\tTest: Average Accuracy: 0.5740691489361702\tAverage Loss: 1.4710488803257815\n",
      "Epoch 12:\n",
      "\tTrain: Average Accuracy: 0.6164878731343284\tAverage Loss: 1.302893889208724\n",
      "\tTest: Average Accuracy: 0.5870567375886524\tAverage Loss: 1.4425530681729857\n",
      "Epoch 13:\n",
      "\tTrain: Average Accuracy: 0.6282815831556503\tAverage Loss: 1.260363974777315\n",
      "\tTest: Average Accuracy: 0.5905363475177305\tAverage Loss: 1.429214234275307\n",
      "Epoch 14:\n",
      "\tTrain: Average Accuracy: 0.6431403251599147\tAverage Loss: 1.2168094768243658\n",
      "\tTest: Average Accuracy: 0.6022163120567375\tAverage Loss: 1.3850557389564602\n",
      "Epoch 15:\n",
      "\tTrain: Average Accuracy: 0.6480876865671642\tAverage Loss: 1.198028585962379\n",
      "\tTest: Average Accuracy: 0.6058067375886524\tAverage Loss: 1.3785070994666924\n",
      "Epoch 16:\n",
      "\tTrain: Average Accuracy: 0.6551006130063965\tAverage Loss: 1.1746485386424304\n",
      "\tTest: Average Accuracy: 0.6102615248226949\tAverage Loss: 1.357565893122767\n",
      "Epoch 17:\n",
      "\tTrain: Average Accuracy: 0.6630297174840085\tAverage Loss: 1.147114790849393\n",
      "\tTest: Average Accuracy: 0.6216976950354609\tAverage Loss: 1.3240555941221117\n",
      "Epoch 18:\n",
      "\tTrain: Average Accuracy: 0.6735241204690832\tAverage Loss: 1.1136862281494486\n",
      "\tTest: Average Accuracy: 0.6231382978723404\tAverage Loss: 1.3107494862461853\n",
      "Epoch 19:\n",
      "\tTrain: Average Accuracy: 0.6751066098081023\tAverage Loss: 1.1034170782438666\n",
      "\tTest: Average Accuracy: 0.6200576241134752\tAverage Loss: 1.3383836519773922\n",
      "Epoch 20:\n",
      "\tTrain: Average Accuracy: 0.683585421108742\tAverage Loss: 1.0769341125000154\n",
      "\tTest: Average Accuracy: 0.6303413120567375\tAverage Loss: 1.294122031713053\n"
     ]
    }
   ],
   "source": [
    "# Sample code for building and training a model\n",
    "\n",
    "INPUT_SHAPE = 784\n",
    "LEARNING_RATE = 0.001\n",
    "EPOCHS = 20\n",
    "\n",
    "TRAINLOADER = Dataloader((normalized_train_data), (_train_label), 20, batch_size=64, shuffle=True)\n",
    "TESTLOADER = Dataloader((normalized_test_data), (_test_label), 20, batch_size=64, shuffle=True)\n",
    "\n",
    "\n",
    "network = FeedForwardNN(INPUT_SHAPE)\n",
    "network.add_layer(40, input_shape=INPUT_SHAPE, activation=Relu(), weight_initializer='uniform')\n",
    "network.add_layer(20, activation=Identical(), weight_initializer='uniform')\n",
    "network.set_training_param(loss=CrossEntropy(), lr=LEARNING_RATE)\n",
    "\n",
    "log = network.fit(EPOCHS, TRAINLOADER, TESTLOADER)"
   ]
  },
  {
   "cell_type": "markdown",
   "id": "1657f782",
   "metadata": {},
   "source": [
    "### Leaky Relu"
   ]
  },
  {
   "cell_type": "code",
   "execution_count": 191,
   "id": "10532979",
   "metadata": {},
   "outputs": [
    {
     "name": "stdout",
     "output_type": "stream",
     "text": [
      "Epoch 1:\n",
      "\tTrain: Average Accuracy: 0.10574360341151386\tAverage Loss: 2.856715727091124\n",
      "\tTest: Average Accuracy: 0.14066932624113476\tAverage Loss: 2.7665676504384087\n",
      "Epoch 2:\n",
      "\tTrain: Average Accuracy: 0.1833855277185501\tAverage Loss: 2.662917266345842\n",
      "\tTest: Average Accuracy: 0.2605939716312057\tAverage Loss: 2.4926205790507643\n",
      "Epoch 3:\n",
      "\tTrain: Average Accuracy: 0.28141657782515994\tAverage Loss: 2.4177444930660172\n",
      "\tTest: Average Accuracy: 0.36529255319148934\tAverage Loss: 2.2337582674105634\n",
      "Epoch 4:\n",
      "\tTrain: Average Accuracy: 0.36000799573560766\tAverage Loss: 2.18135927765959\n",
      "\tTest: Average Accuracy: 0.43375443262411345\tAverage Loss: 1.9892239155676301\n",
      "Epoch 5:\n",
      "\tTrain: Average Accuracy: 0.423740671641791\tAverage Loss: 1.972335640668652\n",
      "\tTest: Average Accuracy: 0.471165780141844\tAverage Loss: 1.8269124133106351\n",
      "Epoch 6:\n",
      "\tTrain: Average Accuracy: 0.47021588486140725\tAverage Loss: 1.813803794211008\n",
      "\tTest: Average Accuracy: 0.4969193262411347\tAverage Loss: 1.7218992067178867\n",
      "Epoch 7:\n",
      "\tTrain: Average Accuracy: 0.5103611407249466\tAverage Loss: 1.6673226983161427\n",
      "\tTest: Average Accuracy: 0.5255097517730497\tAverage Loss: 1.638502292676567\n",
      "Epoch 8:\n",
      "\tTrain: Average Accuracy: 0.5361640458422174\tAverage Loss: 1.5757789348391502\n",
      "\tTest: Average Accuracy: 0.5518173758865248\tAverage Loss: 1.5839549056236595\n",
      "Epoch 9:\n",
      "\tTrain: Average Accuracy: 0.5624666844349681\tAverage Loss: 1.482360845985897\n",
      "\tTest: Average Accuracy: 0.5607491134751774\tAverage Loss: 1.52556979061932\n",
      "Epoch 10:\n",
      "\tTrain: Average Accuracy: 0.5853877931769723\tAverage Loss: 1.4156798343360704\n",
      "\tTest: Average Accuracy: 0.568860815602837\tAverage Loss: 1.4897536335129726\n",
      "Epoch 11:\n",
      "\tTrain: Average Accuracy: 0.6027285447761194\tAverage Loss: 1.3464711622588645\n",
      "\tTest: Average Accuracy: 0.5818040780141843\tAverage Loss: 1.4440968132251395\n",
      "Epoch 12:\n",
      "\tTrain: Average Accuracy: 0.6129231076759062\tAverage Loss: 1.3044409693117274\n",
      "\tTest: Average Accuracy: 0.5846631205673758\tAverage Loss: 1.4459533387297123\n",
      "Epoch 13:\n",
      "\tTrain: Average Accuracy: 0.6319796108742004\tAverage Loss: 1.2543381669430493\n",
      "\tTest: Average Accuracy: 0.5960992907801418\tAverage Loss: 1.3997069739361705\n",
      "Epoch 14:\n",
      "\tTrain: Average Accuracy: 0.6372601279317697\tAverage Loss: 1.231564931176388\n",
      "\tTest: Average Accuracy: 0.6055851063829787\tAverage Loss: 1.386823996701571\n",
      "Epoch 15:\n",
      "\tTrain: Average Accuracy: 0.6536513859275054\tAverage Loss: 1.1818168362439012\n",
      "\tTest: Average Accuracy: 0.6096409574468085\tAverage Loss: 1.371058934372276\n",
      "Epoch 16:\n",
      "\tTrain: Average Accuracy: 0.6550173240938166\tAverage Loss: 1.1706334300536139\n",
      "\tTest: Average Accuracy: 0.6132092198581561\tAverage Loss: 1.3498696263355108\n",
      "Epoch 17:\n",
      "\tTrain: Average Accuracy: 0.6701759061833689\tAverage Loss: 1.1264748320553666\n",
      "\tTest: Average Accuracy: 0.6203679078014184\tAverage Loss: 1.320193983338676\n",
      "Epoch 18:\n",
      "\tTrain: Average Accuracy: 0.6701592484008528\tAverage Loss: 1.1256823553671398\n",
      "\tTest: Average Accuracy: 0.6239583333333333\tAverage Loss: 1.3070763219534205\n",
      "Epoch 19:\n",
      "\tTrain: Average Accuracy: 0.6812033582089553\tAverage Loss: 1.0851289039344747\n",
      "\tTest: Average Accuracy: 0.6342863475177306\tAverage Loss: 1.284628390130291\n",
      "Epoch 20:\n",
      "\tTrain: Average Accuracy: 0.687483342217484\tAverage Loss: 1.0700010367277277\n",
      "\tTest: Average Accuracy: 0.6349069148936171\tAverage Loss: 1.2793514810696416\n"
     ]
    }
   ],
   "source": [
    "# Sample code for building and training a model\n",
    "\n",
    "INPUT_SHAPE = 784\n",
    "LEARNING_RATE = 0.001\n",
    "EPOCHS = 20\n",
    "\n",
    "TRAINLOADER = Dataloader((normalized_train_data), (_train_label), 20, batch_size=64, shuffle=True)\n",
    "TESTLOADER = Dataloader((normalized_test_data), (_test_label), 20, batch_size=64, shuffle=True)\n",
    "\n",
    "\n",
    "network = FeedForwardNN(INPUT_SHAPE)\n",
    "network.add_layer(40, input_shape=INPUT_SHAPE, activation=LeakyRelu(), weight_initializer='uniform')\n",
    "network.add_layer(20, activation=Identical(), weight_initializer='uniform')\n",
    "network.set_training_param(loss=CrossEntropy(), lr=LEARNING_RATE)\n",
    "\n",
    "log = network.fit(EPOCHS, TRAINLOADER, TESTLOADER)"
   ]
  },
  {
   "cell_type": "markdown",
   "id": "44a8ab42",
   "metadata": {},
   "source": [
    "### Sigmoid"
   ]
  },
  {
   "cell_type": "code",
   "execution_count": 137,
   "id": "4b7fc838",
   "metadata": {},
   "outputs": [
    {
     "name": "stdout",
     "output_type": "stream",
     "text": [
      "Epoch 1:\n",
      "\tTrain: Average Accuracy: 0.0568363539445629\tAverage Loss: 2.957836212472897\n",
      "\tTest: Average Accuracy: 0.057247340425531916\tAverage Loss: 2.9543836869530757\n",
      "Epoch 2:\n",
      "\tTrain: Average Accuracy: 0.05688632729211088\tAverage Loss: 2.9547895211954973\n",
      "\tTest: Average Accuracy: 0.055762411347517735\tAverage Loss: 2.9536407895249814\n",
      "Epoch 3:\n",
      "\tTrain: Average Accuracy: 0.05738606076759062\tAverage Loss: 2.9531056787133894\n",
      "\tTest: Average Accuracy: 0.055762411347517735\tAverage Loss: 2.952971911746148\n",
      "Epoch 4:\n",
      "\tTrain: Average Accuracy: 0.05740271855010661\tAverage Loss: 2.950068747690217\n",
      "\tTest: Average Accuracy: 0.05565159574468085\tAverage Loss: 2.951270881704503\n",
      "Epoch 5:\n",
      "\tTrain: Average Accuracy: 0.05738606076759062\tAverage Loss: 2.9447127243532574\n",
      "\tTest: Average Accuracy: 0.055873226950354606\tAverage Loss: 2.946703962225076\n",
      "Epoch 6:\n",
      "\tTrain: Average Accuracy: 0.05738606076759062\tAverage Loss: 2.934238185293507\n",
      "\tTest: Average Accuracy: 0.05565159574468085\tAverage Loss: 2.935324906757112\n",
      "Epoch 7:\n",
      "\tTrain: Average Accuracy: 0.05738606076759062\tAverage Loss: 2.9159914372601596\n",
      "\tTest: Average Accuracy: 0.055873226950354606\tAverage Loss: 2.9158362433162988\n",
      "Epoch 8:\n",
      "\tTrain: Average Accuracy: 0.05743603411513859\tAverage Loss: 2.886125090888227\n",
      "\tTest: Average Accuracy: 0.055762411347517735\tAverage Loss: 2.8807599781347935\n",
      "Epoch 9:\n",
      "\tTrain: Average Accuracy: 0.05740271855010661\tAverage Loss: 2.8459878558269134\n",
      "\tTest: Average Accuracy: 0.05571808510638298\tAverage Loss: 2.8428188949201574\n",
      "Epoch 10:\n",
      "\tTrain: Average Accuracy: 0.05751932302771855\tAverage Loss: 2.8009564761457044\n",
      "\tTest: Average Accuracy: 0.05649379432624114\tAverage Loss: 2.800174935038209\n",
      "Epoch 11:\n",
      "\tTrain: Average Accuracy: 0.05773587420042644\tAverage Loss: 2.7557419888605788\n",
      "\tTest: Average Accuracy: 0.05702570921985816\tAverage Loss: 2.7632772825501335\n",
      "Epoch 12:\n",
      "\tTrain: Average Accuracy: 0.05823560767590618\tAverage Loss: 2.723560131897777\n",
      "\tTest: Average Accuracy: 0.05720301418439716\tAverage Loss: 2.7337894307663384\n",
      "Epoch 13:\n",
      "\tTrain: Average Accuracy: 0.0601512526652452\tAverage Loss: 2.688679802161352\n",
      "\tTest: Average Accuracy: 0.05797872340425532\tAverage Loss: 2.7067188204523864\n",
      "Epoch 14:\n",
      "\tTrain: Average Accuracy: 0.06023454157782516\tAverage Loss: 2.6648039422094576\n",
      "\tTest: Average Accuracy: 0.05939716312056737\tAverage Loss: 2.6844604482464893\n",
      "Epoch 15:\n",
      "\tTrain: Average Accuracy: 0.0621002132196162\tAverage Loss: 2.6404876061990894\n",
      "\tTest: Average Accuracy: 0.06015070921985816\tAverage Loss: 2.667566289985753\n",
      "Epoch 16:\n",
      "\tTrain: Average Accuracy: 0.06225013326226013\tAverage Loss: 2.623096219513061\n",
      "\tTest: Average Accuracy: 0.06203457446808511\tAverage Loss: 2.65312393038948\n",
      "Epoch 17:\n",
      "\tTrain: Average Accuracy: 0.06471548507462686\tAverage Loss: 2.606921690158753\n",
      "\tTest: Average Accuracy: 0.06622340425531915\tAverage Loss: 2.64071136884765\n",
      "Epoch 18:\n",
      "\tTrain: Average Accuracy: 0.06844682835820895\tAverage Loss: 2.597232425704744\n",
      "\tTest: Average Accuracy: 0.06502659574468085\tAverage Loss: 2.636096556323356\n",
      "Epoch 19:\n",
      "\tTrain: Average Accuracy: 0.07272787846481876\tAverage Loss: 2.587247908511971\n",
      "\tTest: Average Accuracy: 0.06819592198581559\tAverage Loss: 2.62918487056017\n",
      "Epoch 20:\n",
      "\tTrain: Average Accuracy: 0.07829157782515991\tAverage Loss: 2.5800029359195484\n",
      "\tTest: Average Accuracy: 0.07220744680851064\tAverage Loss: 2.6247842993218793\n"
     ]
    }
   ],
   "source": [
    "INPUT_SHAPE = 784\n",
    "LEARNING_RATE = 0.01\n",
    "EPOCHS = 20\n",
    "\n",
    "TRAINLOADER = Dataloader((normalized_train_data), (_train_label), 20, batch_size=64, shuffle=True)\n",
    "TESTLOADER = Dataloader((normalized_test_data), (_test_label), 20, batch_size=64, shuffle=True)\n",
    "\n",
    "\n",
    "network = FeedForwardNN(INPUT_SHAPE)\n",
    "network.add_layer(40, input_shape=INPUT_SHAPE, activation=Sigmoid(), weight_initializer='uniform')\n",
    "network.add_layer(20, activation=Sigmoid(), weight_initializer='uniform')\n",
    "network.set_training_param(loss=CrossEntropy(), lr=LEARNING_RATE)\n",
    "\n",
    "log = network.fit(EPOCHS, TRAINLOADER, TESTLOADER)"
   ]
  },
  {
   "cell_type": "markdown",
   "id": "33282a8f",
   "metadata": {},
   "source": [
    "### Tanh"
   ]
  },
  {
   "cell_type": "code",
   "execution_count": 196,
   "id": "06aeadfb",
   "metadata": {},
   "outputs": [
    {
     "name": "stdout",
     "output_type": "stream",
     "text": [
      "Epoch 1:\n",
      "\tTrain: Average Accuracy: 0.06959621535181236\tAverage Loss: 2.96000457500595\n",
      "\tTest: Average Accuracy: 0.07573138297872341\tAverage Loss: 2.951635599196289\n",
      "Epoch 2:\n",
      "\tTrain: Average Accuracy: 0.08337220149253731\tAverage Loss: 2.937665547952298\n",
      "\tTest: Average Accuracy: 0.0684618794326241\tAverage Loss: 2.9406810817311215\n",
      "Epoch 3:\n",
      "\tTrain: Average Accuracy: 0.09090151918976545\tAverage Loss: 2.9205018303134733\n",
      "\tTest: Average Accuracy: 0.06852836879432624\tAverage Loss: 2.9344677454546972\n",
      "Epoch 4:\n",
      "\tTrain: Average Accuracy: 0.09654850746268656\tAverage Loss: 2.903003957996616\n",
      "\tTest: Average Accuracy: 0.06735372340425531\tAverage Loss: 2.9279317324016323\n",
      "Epoch 5:\n",
      "\tTrain: Average Accuracy: 0.10281183368869937\tAverage Loss: 2.8849995467785563\n",
      "\tTest: Average Accuracy: 0.0769281914893617\tAverage Loss: 2.916283995626151\n",
      "Epoch 6:\n",
      "\tTrain: Average Accuracy: 0.11273987206823027\tAverage Loss: 2.8652317630392425\n",
      "\tTest: Average Accuracy: 0.09665336879432623\tAverage Loss: 2.8962910671709836\n",
      "Epoch 7:\n",
      "\tTrain: Average Accuracy: 0.1164045842217484\tAverage Loss: 2.843252732840666\n",
      "\tTest: Average Accuracy: 0.11391843971631206\tAverage Loss: 2.8783361990863408\n",
      "Epoch 8:\n",
      "\tTrain: Average Accuracy: 0.12276785714285714\tAverage Loss: 2.8205839327878075\n",
      "\tTest: Average Accuracy: 0.12972074468085107\tAverage Loss: 2.853334841913471\n",
      "Epoch 9:\n",
      "\tTrain: Average Accuracy: 0.1335954157782516\tAverage Loss: 2.7980810844491373\n",
      "\tTest: Average Accuracy: 0.13184840425531916\tAverage Loss: 2.8316757720430195\n",
      "Epoch 10:\n",
      "\tTrain: Average Accuracy: 0.13999200426439232\tAverage Loss: 2.777082553796788\n",
      "\tTest: Average Accuracy: 0.13286790780141844\tAverage Loss: 2.8113445788714486\n",
      "Epoch 11:\n",
      "\tTrain: Average Accuracy: 0.1460554371002132\tAverage Loss: 2.7577208778897697\n",
      "\tTest: Average Accuracy: 0.13402039007092198\tAverage Loss: 2.7941795801823757\n",
      "Epoch 12:\n",
      "\tTrain: Average Accuracy: 0.1553171641791045\tAverage Loss: 2.739867681701778\n",
      "\tTest: Average Accuracy: 0.13652482269503544\tAverage Loss: 2.778825662813955\n",
      "Epoch 13:\n",
      "\tTrain: Average Accuracy: 0.15738272921108742\tAverage Loss: 2.7229005081824336\n",
      "\tTest: Average Accuracy: 0.1375\tAverage Loss: 2.7634688570992565\n",
      "Epoch 14:\n",
      "\tTrain: Average Accuracy: 0.16457889125799574\tAverage Loss: 2.7064538526957436\n",
      "\tTest: Average Accuracy: 0.14153368794326243\tAverage Loss: 2.749786992089438\n",
      "Epoch 15:\n",
      "\tTrain: Average Accuracy: 0.16887659914712153\tAverage Loss: 2.690162389682276\n",
      "\tTest: Average Accuracy: 0.14428191489361702\tAverage Loss: 2.7359250323839954\n",
      "Epoch 16:\n",
      "\tTrain: Average Accuracy: 0.17444029850746268\tAverage Loss: 2.6737203644138643\n",
      "\tTest: Average Accuracy: 0.14496897163120565\tAverage Loss: 2.7217199537271273\n",
      "Epoch 17:\n",
      "\tTrain: Average Accuracy: 0.18280250533049042\tAverage Loss: 2.6562372537042926\n",
      "\tTest: Average Accuracy: 0.14762854609929077\tAverage Loss: 2.7081835253657927\n",
      "Epoch 18:\n",
      "\tTrain: Average Accuracy: 0.18893256929637528\tAverage Loss: 2.63846502420549\n",
      "\tTest: Average Accuracy: 0.15536347517730498\tAverage Loss: 2.6945356793382436\n",
      "Epoch 19:\n",
      "\tTrain: Average Accuracy: 0.19852745202558636\tAverage Loss: 2.6201668335145882\n",
      "\tTest: Average Accuracy: 0.15715868794326243\tAverage Loss: 2.681096305765701\n",
      "Epoch 20:\n",
      "\tTrain: Average Accuracy: 0.20617337420042645\tAverage Loss: 2.601894572528913\n",
      "\tTest: Average Accuracy: 0.16356382978723405\tAverage Loss: 2.665158684413048\n"
     ]
    }
   ],
   "source": [
    "INPUT_SHAPE = 784\n",
    "LEARNING_RATE = 0.001\n",
    "EPOCHS = 20\n",
    "\n",
    "TRAINLOADER = Dataloader((normalized_train_data), (_train_label), 20, batch_size=64, shuffle=True)\n",
    "TESTLOADER = Dataloader((normalized_test_data), (_test_label), 20, batch_size=64, shuffle=True)\n",
    "\n",
    "network = FeedForwardNN(INPUT_SHAPE)\n",
    "network.add_layer(40, activation=Tanh(), weight_initializer='uniform')\n",
    "network.add_layer(20, activation=Tanh(), weight_initializer='uniform')\n",
    "network.set_training_param(loss=CrossEntropy(), lr=LEARNING_RATE)\n",
    "\n",
    "log = network.fit(EPOCHS, TRAINLOADER, TESTLOADER, print_results = True)"
   ]
  },
  {
   "cell_type": "markdown",
   "id": "ae6c0fff",
   "metadata": {},
   "source": [
    "### Learning Rate 0.0001"
   ]
  },
  {
   "cell_type": "code",
   "execution_count": 192,
   "id": "93a14e7f",
   "metadata": {},
   "outputs": [
    {
     "name": "stdout",
     "output_type": "stream",
     "text": [
      "Epoch 1:\n",
      "\tTrain: Average Accuracy: 0.05718616737739872\tAverage Loss: 2.950314379719442\n",
      "\tTest: Average Accuracy: 0.05647163120567376\tAverage Loss: 2.945687605189623\n",
      "Epoch 2:\n",
      "\tTrain: Average Accuracy: 0.08725346481876332\tAverage Loss: 2.92172965968834\n",
      "\tTest: Average Accuracy: 0.06407358156028369\tAverage Loss: 2.932976994551853\n",
      "Epoch 3:\n",
      "\tTrain: Average Accuracy: 0.09741471215351813\tAverage Loss: 2.8963983163605147\n",
      "\tTest: Average Accuracy: 0.0665336879432624\tAverage Loss: 2.9237758630391624\n",
      "Epoch 4:\n",
      "\tTrain: Average Accuracy: 0.10257862473347548\tAverage Loss: 2.873309517002025\n",
      "\tTest: Average Accuracy: 0.07191932624113474\tAverage Loss: 2.9173685375344247\n",
      "Epoch 5:\n",
      "\tTrain: Average Accuracy: 0.1115238539445629\tAverage Loss: 2.849441370438207\n",
      "\tTest: Average Accuracy: 0.10144060283687942\tAverage Loss: 2.8955601079276385\n",
      "Epoch 6:\n",
      "\tTrain: Average Accuracy: 0.1263492803837953\tAverage Loss: 2.822064125373117\n",
      "\tTest: Average Accuracy: 0.12311613475177303\tAverage Loss: 2.871811845953763\n",
      "Epoch 7:\n",
      "\tTrain: Average Accuracy: 0.14250732942430705\tAverage Loss: 2.7907212258577414\n",
      "\tTest: Average Accuracy: 0.14361702127659576\tAverage Loss: 2.8426336050022973\n",
      "Epoch 8:\n",
      "\tTrain: Average Accuracy: 0.1593983208955224\tAverage Loss: 2.7559797523997607\n",
      "\tTest: Average Accuracy: 0.17280585106382979\tAverage Loss: 2.8087015523177024\n",
      "Epoch 9:\n",
      "\tTrain: Average Accuracy: 0.18077025586353945\tAverage Loss: 2.717910899477586\n",
      "\tTest: Average Accuracy: 0.17282801418439714\tAverage Loss: 2.7716641023423723\n",
      "Epoch 10:\n",
      "\tTrain: Average Accuracy: 0.1935967484008529\tAverage Loss: 2.6766260474200805\n",
      "\tTest: Average Accuracy: 0.17956560283687945\tAverage Loss: 2.7363276026398946\n",
      "Epoch 11:\n",
      "\tTrain: Average Accuracy: 0.20648987206823027\tAverage Loss: 2.631667731344842\n",
      "\tTest: Average Accuracy: 0.17568705673758864\tAverage Loss: 2.697483779558851\n",
      "Epoch 12:\n",
      "\tTrain: Average Accuracy: 0.21711753731343283\tAverage Loss: 2.5834248468195837\n",
      "\tTest: Average Accuracy: 0.17180851063829788\tAverage Loss: 2.658678215245864\n",
      "Epoch 13:\n",
      "\tTrain: Average Accuracy: 0.22311433901918976\tAverage Loss: 2.5335543326831784\n",
      "\tTest: Average Accuracy: 0.18439716312056736\tAverage Loss: 2.6195806923979936\n",
      "Epoch 14:\n",
      "\tTrain: Average Accuracy: 0.23843949893390193\tAverage Loss: 2.483476321819302\n",
      "\tTest: Average Accuracy: 0.18211436170212766\tAverage Loss: 2.58238774607071\n",
      "Epoch 15:\n",
      "\tTrain: Average Accuracy: 0.25363139658848616\tAverage Loss: 2.434811881227009\n",
      "\tTest: Average Accuracy: 0.1985372340425532\tAverage Loss: 2.5431163617833805\n",
      "Epoch 16:\n",
      "\tTrain: Average Accuracy: 0.27235474413646055\tAverage Loss: 2.387646207013681\n",
      "\tTest: Average Accuracy: 0.20746897163120565\tAverage Loss: 2.5090192499646085\n",
      "Epoch 17:\n",
      "\tTrain: Average Accuracy: 0.2961587153518124\tAverage Loss: 2.341640299531702\n",
      "\tTest: Average Accuracy: 0.21941489361702127\tAverage Loss: 2.4760959519498913\n",
      "Epoch 18:\n",
      "\tTrain: Average Accuracy: 0.31986273987206826\tAverage Loss: 2.2950273931619494\n",
      "\tTest: Average Accuracy: 0.23851950354609927\tAverage Loss: 2.4410381297028816\n",
      "Epoch 19:\n",
      "\tTrain: Average Accuracy: 0.34773121002132196\tAverage Loss: 2.2470205019826457\n",
      "\tTest: Average Accuracy: 0.269281914893617\tAverage Loss: 2.402007574176901\n",
      "Epoch 20:\n",
      "\tTrain: Average Accuracy: 0.3716517857142857\tAverage Loss: 2.1957704831502385\n",
      "\tTest: Average Accuracy: 0.2908466312056738\tAverage Loss: 2.363085032306972\n"
     ]
    }
   ],
   "source": [
    "INPUT_SHAPE = 784\n",
    "LEARNING_RATE = 0.0001\n",
    "EPOCHS = 20\n",
    "\n",
    "TRAINLOADER = Dataloader((normalized_train_data), (_train_label), 20, batch_size=64, shuffle=True)\n",
    "TESTLOADER = Dataloader((normalized_test_data), (_test_label), 20, batch_size=64, shuffle=True)\n",
    "\n",
    "\n",
    "network = FeedForwardNN(INPUT_SHAPE)\n",
    "network.add_layer(40, input_shape=INPUT_SHAPE, activation=LeakyRelu(), weight_initializer='uniform')\n",
    "network.add_layer(20, activation=Identical(), weight_initializer='uniform')\n",
    "network.set_training_param(loss=CrossEntropy(), lr=LEARNING_RATE)\n",
    "\n",
    "log = network.fit(EPOCHS, TRAINLOADER, TESTLOADER)"
   ]
  },
  {
   "cell_type": "markdown",
   "id": "cea0c181",
   "metadata": {},
   "source": [
    "### Learning Rate 0.01"
   ]
  },
  {
   "cell_type": "code",
   "execution_count": 193,
   "id": "8afa59cf",
   "metadata": {},
   "outputs": [
    {
     "name": "stdout",
     "output_type": "stream",
     "text": [
      "Epoch 1:\n",
      "\tTrain: Average Accuracy: 0.07372734541577824\tAverage Loss: 2.9429600463666468\n",
      "\tTest: Average Accuracy: 0.09838209219858154\tAverage Loss: 2.8851754460709613\n",
      "Epoch 2:\n",
      "\tTrain: Average Accuracy: 0.08225613006396588\tAverage Loss: 2.9243087310081286\n",
      "\tTest: Average Accuracy: 0.109197695035461\tAverage Loss: 2.8341017272402196\n",
      "Epoch 3:\n",
      "\tTrain: Average Accuracy: 0.09366671108742004\tAverage Loss: 2.9041971591447844\n",
      "\tTest: Average Accuracy: 0.1795877659574468\tAverage Loss: 2.6241420931680035\n",
      "Epoch 4:\n",
      "\tTrain: Average Accuracy: 0.10336154051172708\tAverage Loss: 2.9332869696036488\n",
      "\tTest: Average Accuracy: 0.1842641843971631\tAverage Loss: 2.7756718918835257\n",
      "Epoch 5:\n",
      "\tTrain: Average Accuracy: 0.08783648720682302\tAverage Loss: 4.186325691698156\n",
      "\tTest: Average Accuracy: 0.15002216312056735\tAverage Loss: 2.820687817105252\n",
      "Epoch 6:\n",
      "\tTrain: Average Accuracy: 0.11378931236673774\tAverage Loss: 2.961654009088771\n",
      "\tTest: Average Accuracy: 0.19632092198581563\tAverage Loss: 2.7617160948125825\n",
      "Epoch 7:\n",
      "\tTrain: Average Accuracy: 0.1218683368869936\tAverage Loss: 3.1527732243299074\n",
      "\tTest: Average Accuracy: 0.22234042553191488\tAverage Loss: 2.7216393605471496\n",
      "Epoch 8:\n",
      "\tTrain: Average Accuracy: 0.1590318496801706\tAverage Loss: 2.7895305523233955\n",
      "\tTest: Average Accuracy: 0.2074468085106383\tAverage Loss: 2.6619958093435323\n",
      "Epoch 9:\n",
      "\tTrain: Average Accuracy: 0.1726412579957356\tAverage Loss: 2.829131189187952\n",
      "\tTest: Average Accuracy: 0.25950797872340425\tAverage Loss: 2.690612569112438\n",
      "Epoch 10:\n",
      "\tTrain: Average Accuracy: 0.18311900319829424\tAverage Loss: 2.8007272692594842\n",
      "\tTest: Average Accuracy: 0.22309397163120565\tAverage Loss: 2.6452393650475585\n",
      "Epoch 11:\n",
      "\tTrain: Average Accuracy: 0.2001765724946695\tAverage Loss: 2.707128096663043\n",
      "\tTest: Average Accuracy: 0.2690824468085106\tAverage Loss: 2.5072359913605298\n",
      "Epoch 12:\n",
      "\tTrain: Average Accuracy: 0.2281116737739872\tAverage Loss: 2.6076632578463887\n",
      "\tTest: Average Accuracy: 0.30979609929078017\tAverage Loss: 2.4813174613952644\n",
      "Epoch 13:\n",
      "\tTrain: Average Accuracy: 0.26807369402985076\tAverage Loss: 2.421801433228625\n",
      "\tTest: Average Accuracy: 0.33636968085106383\tAverage Loss: 2.4107933265602344\n",
      "Epoch 14:\n",
      "\tTrain: Average Accuracy: 0.2459021855010661\tAverage Loss: 3.1436206190506253\n",
      "\tTest: Average Accuracy: 0.2983156028368794\tAverage Loss: 3.1178030582721874\n",
      "Epoch 15:\n",
      "\tTrain: Average Accuracy: 0.23425839552238806\tAverage Loss: 3.2895998618984046\n",
      "\tTest: Average Accuracy: 0.3703679078014185\tAverage Loss: 2.3102100572327453\n",
      "Epoch 16:\n",
      "\tTrain: Average Accuracy: 0.27162180170575695\tAverage Loss: 2.7549752922944775\n",
      "\tTest: Average Accuracy: 0.35757978723404255\tAverage Loss: 2.2688385153482566\n",
      "Epoch 17:\n",
      "\tTrain: Average Accuracy: 0.34273387526652455\tAverage Loss: 2.206116256763833\n",
      "\tTest: Average Accuracy: 0.3689937943262411\tAverage Loss: 2.216013792243703\n",
      "Epoch 18:\n",
      "\tTrain: Average Accuracy: 0.3942064232409382\tAverage Loss: 2.0660241574268086\n",
      "\tTest: Average Accuracy: 0.424179964539007\tAverage Loss: 2.1529426833114673\n",
      "Epoch 19:\n",
      "\tTrain: Average Accuracy: 0.43779984008528783\tAverage Loss: 1.9465408291150563\n",
      "\tTest: Average Accuracy: 0.4398492907801419\tAverage Loss: 2.1087556328688097\n",
      "Epoch 20:\n",
      "\tTrain: Average Accuracy: 0.4775952825159915\tAverage Loss: 1.861609356230621\n",
      "\tTest: Average Accuracy: 0.44915780141843975\tAverage Loss: 2.0884229550054827\n"
     ]
    }
   ],
   "source": [
    "INPUT_SHAPE = 784\n",
    "LEARNING_RATE = 0.01\n",
    "EPOCHS = 20\n",
    "\n",
    "TRAINLOADER = Dataloader((normalized_train_data), (_train_label), 20, batch_size=64, shuffle=True)\n",
    "TESTLOADER = Dataloader((normalized_test_data), (_test_label), 20, batch_size=64, shuffle=True)\n",
    "\n",
    "\n",
    "network = FeedForwardNN(INPUT_SHAPE)\n",
    "network.add_layer(40, input_shape=INPUT_SHAPE, activation=LeakyRelu(), weight_initializer='uniform')\n",
    "network.add_layer(20, activation=Identical(), weight_initializer='uniform')\n",
    "network.set_training_param(loss=CrossEntropy(), lr=LEARNING_RATE)\n",
    "\n",
    "log = network.fit(EPOCHS, TRAINLOADER, TESTLOADER)"
   ]
  },
  {
   "cell_type": "markdown",
   "id": "5166b7e0",
   "metadata": {},
   "source": [
    "### Batch Size 32"
   ]
  },
  {
   "cell_type": "code",
   "execution_count": 140,
   "id": "b776ded2",
   "metadata": {},
   "outputs": [
    {
     "name": "stdout",
     "output_type": "stream",
     "text": [
      "Epoch 1:\n",
      "\tTrain: Average Accuracy: 0.10948333333333334\tAverage Loss: 2.849817144778162\n",
      "\tTest: Average Accuracy: 0.169909381663113\tAverage Loss: 2.7695074485605384\n",
      "Epoch 2:\n",
      "\tTrain: Average Accuracy: 0.2114\tAverage Loss: 2.5648532803037893\n",
      "\tTest: Average Accuracy: 0.2593283582089552\tAverage Loss: 2.455386926348575\n",
      "Epoch 3:\n",
      "\tTrain: Average Accuracy: 0.33923333333333333\tAverage Loss: 2.2333060033317467\n",
      "\tTest: Average Accuracy: 0.40473969438521673\tAverage Loss: 2.116066358841075\n",
      "Epoch 4:\n",
      "\tTrain: Average Accuracy: 0.44311666666666666\tAverage Loss: 1.9182482084223011\n",
      "\tTest: Average Accuracy: 0.47527985074626866\tAverage Loss: 1.8567274662677113\n",
      "Epoch 5:\n",
      "\tTrain: Average Accuracy: 0.5099166666666667\tAverage Loss: 1.6832316623179027\n",
      "\tTest: Average Accuracy: 0.49173773987206826\tAverage Loss: 1.740025819256097\n",
      "Epoch 6:\n",
      "\tTrain: Average Accuracy: 0.5476166666666666\tAverage Loss: 1.5444414666778645\n",
      "\tTest: Average Accuracy: 0.5298063255152807\tAverage Loss: 1.6149683996099837\n",
      "Epoch 7:\n",
      "\tTrain: Average Accuracy: 0.5780666666666666\tAverage Loss: 1.435503871023105\n",
      "\tTest: Average Accuracy: 0.5296508528784648\tAverage Loss: 1.6170838254289563\n",
      "Epoch 8:\n",
      "\tTrain: Average Accuracy: 0.6001\tAverage Loss: 1.358762690290981\n",
      "\tTest: Average Accuracy: 0.5628553660270078\tAverage Loss: 1.5062574651634526\n",
      "Epoch 9:\n",
      "\tTrain: Average Accuracy: 0.6210833333333333\tAverage Loss: 1.2867693724380327\n",
      "\tTest: Average Accuracy: 0.5736496090973703\tAverage Loss: 1.4598911470160474\n",
      "Epoch 10:\n",
      "\tTrain: Average Accuracy: 0.6332333333333333\tAverage Loss: 1.2440653500960777\n",
      "\tTest: Average Accuracy: 0.5852878464818764\tAverage Loss: 1.4263825610392056\n",
      "Epoch 11:\n",
      "\tTrain: Average Accuracy: 0.6474166666666666\tAverage Loss: 1.2008081540896582\n",
      "\tTest: Average Accuracy: 0.599524697938877\tAverage Loss: 1.3930906458046968\n",
      "Epoch 12:\n",
      "\tTrain: Average Accuracy: 0.6584\tAverage Loss: 1.1625224175340612\n",
      "\tTest: Average Accuracy: 0.6097414712153518\tAverage Loss: 1.3580266004892434\n",
      "Epoch 13:\n",
      "\tTrain: Average Accuracy: 0.6697166666666666\tAverage Loss: 1.1263943735081365\n",
      "\tTest: Average Accuracy: 0.6131174484719261\tAverage Loss: 1.356209651599381\n",
      "Epoch 14:\n",
      "\tTrain: Average Accuracy: 0.6762666666666667\tAverage Loss: 1.1082837178400498\n",
      "\tTest: Average Accuracy: 0.6226679104477612\tAverage Loss: 1.3125022541236777\n",
      "Epoch 15:\n",
      "\tTrain: Average Accuracy: 0.6831166666666667\tAverage Loss: 1.0827137963039686\n",
      "\tTest: Average Accuracy: 0.6275764036958067\tAverage Loss: 1.3091808618532166\n",
      "Epoch 16:\n",
      "\tTrain: Average Accuracy: 0.6888333333333333\tAverage Loss: 1.0640992785962102\n",
      "\tTest: Average Accuracy: 0.6314632196162047\tAverage Loss: 1.2911565043314175\n",
      "Epoch 17:\n",
      "\tTrain: Average Accuracy: 0.6964\tAverage Loss: 1.0388364962937497\n",
      "\tTest: Average Accuracy: 0.6373045486851456\tAverage Loss: 1.2714493678469345\n",
      "Epoch 18:\n",
      "\tTrain: Average Accuracy: 0.7031833333333334\tAverage Loss: 1.0146174044930856\n",
      "\tTest: Average Accuracy: 0.6415467306325515\tAverage Loss: 1.252634947515054\n",
      "Epoch 19:\n",
      "\tTrain: Average Accuracy: 0.7061\tAverage Loss: 1.0090219979175978\n",
      "\tTest: Average Accuracy: 0.6434790334044066\tAverage Loss: 1.2418831920209294\n",
      "Epoch 20:\n",
      "\tTrain: Average Accuracy: 0.71\tAverage Loss: 0.9922700294375033\n",
      "\tTest: Average Accuracy: 0.6509195095948828\tAverage Loss: 1.222109695831832\n"
     ]
    }
   ],
   "source": [
    "INPUT_SHAPE = 784\n",
    "LEARNING_RATE = 0.001\n",
    "EPOCHS = 20\n",
    "\n",
    "TRAINLOADER = Dataloader((normalized_train_data), (_train_label), 20, batch_size=32, shuffle=True)\n",
    "TESTLOADER = Dataloader((normalized_test_data), (_test_label), 20, batch_size=32, shuffle=True)\n",
    "\n",
    "\n",
    "network = FeedForwardNN(INPUT_SHAPE)\n",
    "network.add_layer(40, input_shape=INPUT_SHAPE, activation=LeakyRelu(), weight_initializer='uniform')\n",
    "network.add_layer(20, activation=LeakyRelu(), weight_initializer='uniform')\n",
    "network.set_training_param(loss=CrossEntropy(), lr=LEARNING_RATE)\n",
    "\n",
    "log = network.fit(EPOCHS, TRAINLOADER, TESTLOADER)"
   ]
  },
  {
   "cell_type": "markdown",
   "id": "619a0480",
   "metadata": {},
   "source": [
    "### Batch Size 16"
   ]
  },
  {
   "cell_type": "code",
   "execution_count": 170,
   "id": "54a8b04b",
   "metadata": {},
   "outputs": [
    {
     "name": "stdout",
     "output_type": "stream",
     "text": [
      "Epoch 1:\n",
      "\tTrain: Average Accuracy: 0.1082\tAverage Loss: 2.8502803352164134\n",
      "\tTest: Average Accuracy: 0.16138059701492538\tAverage Loss: 2.765613552071499\n",
      "Epoch 2:\n",
      "\tTrain: Average Accuracy: 0.22395\tAverage Loss: 2.5161047814144655\n",
      "\tTest: Average Accuracy: 0.2571295309168444\tAverage Loss: 2.429354475228211\n",
      "Epoch 3:\n",
      "\tTrain: Average Accuracy: 0.3944166666666667\tAverage Loss: 2.0917230372464495\n",
      "\tTest: Average Accuracy: 0.42650586353944564\tAverage Loss: 2.02960549841229\n",
      "Epoch 4:\n",
      "\tTrain: Average Accuracy: 0.4993166666666667\tAverage Loss: 1.7343744081895496\n",
      "\tTest: Average Accuracy: 0.4758795309168444\tAverage Loss: 1.8000962282886404\n",
      "Epoch 5:\n",
      "\tTrain: Average Accuracy: 0.55075\tAverage Loss: 1.5430196280115875\n",
      "\tTest: Average Accuracy: 0.519456289978678\tAverage Loss: 1.665162744381722\n",
      "Epoch 6:\n",
      "\tTrain: Average Accuracy: 0.5829166666666666\tAverage Loss: 1.4260178357921331\n",
      "\tTest: Average Accuracy: 0.5463752665245203\tAverage Loss: 1.5683442924643693\n",
      "Epoch 7:\n",
      "\tTrain: Average Accuracy: 0.6093833333333334\tAverage Loss: 1.3405968265539703\n",
      "\tTest: Average Accuracy: 0.5579024520255863\tAverage Loss: 1.5387155490323428\n",
      "Epoch 8:\n",
      "\tTrain: Average Accuracy: 0.62705\tAverage Loss: 1.2740201905606685\n",
      "\tTest: Average Accuracy: 0.5670975479744137\tAverage Loss: 1.494873258751449\n",
      "Epoch 9:\n",
      "\tTrain: Average Accuracy: 0.6419833333333334\tAverage Loss: 1.225749510929199\n",
      "\tTest: Average Accuracy: 0.5884861407249466\tAverage Loss: 1.4460749976223666\n",
      "Epoch 10:\n",
      "\tTrain: Average Accuracy: 0.6533166666666667\tAverage Loss: 1.1831349860932174\n",
      "\tTest: Average Accuracy: 0.5968150319829424\tAverage Loss: 1.42123941469591\n",
      "Epoch 11:\n",
      "\tTrain: Average Accuracy: 0.6648\tAverage Loss: 1.146596578582532\n",
      "\tTest: Average Accuracy: 0.6065431769722814\tAverage Loss: 1.3789827764738465\n",
      "Epoch 12:\n",
      "\tTrain: Average Accuracy: 0.6726666666666666\tAverage Loss: 1.119559539901493\n",
      "\tTest: Average Accuracy: 0.6109408315565032\tAverage Loss: 1.3614984222586597\n",
      "Epoch 13:\n",
      "\tTrain: Average Accuracy: 0.6806166666666666\tAverage Loss: 1.0926559086177\n",
      "\tTest: Average Accuracy: 0.6115405117270789\tAverage Loss: 1.346480566351338\n",
      "Epoch 14:\n",
      "\tTrain: Average Accuracy: 0.6862833333333334\tAverage Loss: 1.0711662592925277\n",
      "\tTest: Average Accuracy: 0.6231343283582089\tAverage Loss: 1.322008996161495\n",
      "Epoch 15:\n",
      "\tTrain: Average Accuracy: 0.6929333333333333\tAverage Loss: 1.0520455322455307\n",
      "\tTest: Average Accuracy: 0.6265991471215352\tAverage Loss: 1.3133632283895103\n",
      "Epoch 16:\n",
      "\tTrain: Average Accuracy: 0.7006833333333333\tAverage Loss: 1.0307927679185378\n",
      "\tTest: Average Accuracy: 0.6327292110874201\tAverage Loss: 1.2896806588999359\n",
      "Epoch 17:\n",
      "\tTrain: Average Accuracy: 0.7085\tAverage Loss: 1.0098985692186033\n",
      "\tTest: Average Accuracy: 0.6381263326226013\tAverage Loss: 1.2754566198623816\n",
      "Epoch 18:\n",
      "\tTrain: Average Accuracy: 0.7101\tAverage Loss: 0.9996552615160914\n",
      "\tTest: Average Accuracy: 0.6423907249466951\tAverage Loss: 1.2664727633103925\n",
      "Epoch 19:\n",
      "\tTrain: Average Accuracy: 0.7132666666666667\tAverage Loss: 0.9866815340154708\n",
      "\tTest: Average Accuracy: 0.6487206823027718\tAverage Loss: 1.2456748291458013\n",
      "Epoch 20:\n",
      "\tTrain: Average Accuracy: 0.7197166666666667\tAverage Loss: 0.968290302253363\n",
      "\tTest: Average Accuracy: 0.6513859275053305\tAverage Loss: 1.2301060185838966\n"
     ]
    }
   ],
   "source": [
    "INPUT_SHAPE = 784\n",
    "LEARNING_RATE = 0.001\n",
    "EPOCHS = 20\n",
    "\n",
    "TRAINLOADER = Dataloader((normalized_train_data), (_train_label), 20, batch_size=16, shuffle=True)\n",
    "TESTLOADER = Dataloader((normalized_test_data), (_test_label), 20, batch_size=16, shuffle=True)\n",
    "\n",
    "\n",
    "network = FeedForwardNN(INPUT_SHAPE)\n",
    "network.add_layer(40, input_shape=INPUT_SHAPE, activation=LeakyRelu(), weight_initializer='uniform')\n",
    "network.add_layer(20, activation=LeakyRelu(), weight_initializer='uniform')\n",
    "network.set_training_param(loss=CrossEntropy(), lr=LEARNING_RATE)\n",
    "\n",
    "log = network.fit(EPOCHS, TRAINLOADER, TESTLOADER)"
   ]
  },
  {
   "cell_type": "markdown",
   "id": "27ec0fed",
   "metadata": {},
   "source": [
    "### Batch Size 256"
   ]
  },
  {
   "cell_type": "code",
   "execution_count": 171,
   "id": "bbaec5f8",
   "metadata": {},
   "outputs": [
    {
     "name": "stdout",
     "output_type": "stream",
     "text": [
      "Epoch 1:\n",
      "\tTrain: Average Accuracy: 0.06103940169279922\tAverage Loss: 2.98518373058249\n",
      "\tTest: Average Accuracy: 0.06819037132024978\tAverage Loss: 2.9690725525020003\n",
      "Epoch 2:\n",
      "\tTrain: Average Accuracy: 0.06613350623519104\tAverage Loss: 2.9718630900630036\n",
      "\tTest: Average Accuracy: 0.0680056868867083\tAverage Loss: 2.9515439055928203\n",
      "Epoch 3:\n",
      "\tTrain: Average Accuracy: 0.06381788345463779\tAverage Loss: 2.972330405243609\n",
      "\tTest: Average Accuracy: 0.06615187332738626\tAverage Loss: 2.9442352455604883\n",
      "Epoch 4:\n",
      "\tTrain: Average Accuracy: 0.06307111233865696\tAverage Loss: 2.974549851623641\n",
      "\tTest: Average Accuracy: 0.06736451828724353\tAverage Loss: 2.9515997469582067\n",
      "Epoch 5:\n",
      "\tTrain: Average Accuracy: 0.06262488340000526\tAverage Loss: 2.9786139372552043\n",
      "\tTest: Average Accuracy: 0.057565789473684216\tAverage Loss: 2.967510458971186\n",
      "Epoch 6:\n",
      "\tTrain: Average Accuracy: 0.05947971868291074\tAverage Loss: 2.9954158087725395\n",
      "\tTest: Average Accuracy: 0.06674425735950044\tAverage Loss: 2.9671231559071995\n",
      "Epoch 7:\n",
      "\tTrain: Average Accuracy: 0.06145483659813319\tAverage Loss: 2.9644574771177887\n",
      "\tTest: Average Accuracy: 0.07648374776984834\tAverage Loss: 2.9520624130272917\n",
      "Epoch 8:\n",
      "\tTrain: Average Accuracy: 0.06061764357733842\tAverage Loss: 3.062415419341411\n",
      "\tTest: Average Accuracy: 0.06533298951828724\tAverage Loss: 2.979180740969265\n",
      "Epoch 9:\n",
      "\tTrain: Average Accuracy: 0.06062643283941475\tAverage Loss: 2.967409938481296\n",
      "\tTest: Average Accuracy: 0.07606907894736843\tAverage Loss: 2.958014016092775\n",
      "Epoch 10:\n",
      "\tTrain: Average Accuracy: 0.06485792505630186\tAverage Loss: 3.55589369114025\n",
      "\tTest: Average Accuracy: 0.06506815900981266\tAverage Loss: 3.0259276981305723\n",
      "Epoch 11:\n",
      "\tTrain: Average Accuracy: 0.06082814324246122\tAverage Loss: 2.992801664145666\n",
      "\tTest: Average Accuracy: 0.06120372435325602\tAverage Loss: 2.974116097148494\n",
      "Epoch 12:\n",
      "\tTrain: Average Accuracy: 0.060292820273122195\tAverage Loss: 3.0415980491254238\n",
      "\tTest: Average Accuracy: 0.0644513826940232\tAverage Loss: 2.9871496008369878\n",
      "Epoch 13:\n",
      "\tTrain: Average Accuracy: 0.0634450669855588\tAverage Loss: 2.9831799823091987\n",
      "\tTest: Average Accuracy: 0.07045885370205174\tAverage Loss: 2.979553435539122\n",
      "Epoch 14:\n",
      "\tTrain: Average Accuracy: 0.06231631074581504\tAverage Loss: 2.9865896184898353\n",
      "\tTest: Average Accuracy: 0.06483817462087421\tAverage Loss: 2.976203886517988\n",
      "Epoch 15:\n",
      "\tTrain: Average Accuracy: 0.0637936023277507\tAverage Loss: 2.9815600107660636\n",
      "\tTest: Average Accuracy: 0.07008948483496877\tAverage Loss: 2.97037948676434\n",
      "Epoch 16:\n",
      "\tTrain: Average Accuracy: 0.06517471788365699\tAverage Loss: 2.987636565492194\n",
      "\tTest: Average Accuracy: 0.06677213425512935\tAverage Loss: 2.9808062538804054\n",
      "Epoch 17:\n",
      "\tTrain: Average Accuracy: 0.06499652982228238\tAverage Loss: 2.983171251165224\n",
      "\tTest: Average Accuracy: 0.07218722123104371\tAverage Loss: 2.9714856478273908\n",
      "Epoch 18:\n",
      "\tTrain: Average Accuracy: 0.06444476650661357\tAverage Loss: 2.9791132057646017\n",
      "\tTest: Average Accuracy: 0.07557774866190901\tAverage Loss: 2.9662346707107177\n",
      "Epoch 19:\n",
      "\tTrain: Average Accuracy: 0.07120370904330336\tAverage Loss: 2.9754156951633104\n",
      "\tTest: Average Accuracy: 0.07696810883140054\tAverage Loss: 2.958879717777154\n",
      "Epoch 20:\n",
      "\tTrain: Average Accuracy: 0.0697340685456212\tAverage Loss: 2.974252238533214\n",
      "\tTest: Average Accuracy: 0.07615270963425512\tAverage Loss: 2.953189864843021\n"
     ]
    }
   ],
   "source": [
    "INPUT_SHAPE = 784\n",
    "LEARNING_RATE = 0.001\n",
    "EPOCHS = 20\n",
    "\n",
    "TRAINLOADER = Dataloader((normalized_train_data), (_train_label), 20, batch_size=2564, shuffle=True)\n",
    "TESTLOADER = Dataloader((normalized_test_data), (_test_label), 20, batch_size=256, shuffle=True)\n",
    "\n",
    "\n",
    "network = FeedForwardNN(INPUT_SHAPE)\n",
    "network.add_layer(40, input_shape=INPUT_SHAPE, activation=LeakyRelu(), weight_initializer='uniform')\n",
    "network.add_layer(20, activation=LeakyRelu(), weight_initializer='uniform')\n",
    "network.set_training_param(loss=CrossEntropy(), lr=LEARNING_RATE)\n",
    "\n",
    "log = network.fit(EPOCHS, TRAINLOADER, TESTLOADER)"
   ]
  },
  {
   "cell_type": "markdown",
   "id": "8bda9375",
   "metadata": {},
   "source": [
    "### Epochs 150"
   ]
  },
  {
   "cell_type": "code",
   "execution_count": 173,
   "id": "247809af",
   "metadata": {},
   "outputs": [
    {
     "name": "stdout",
     "output_type": "stream",
     "text": [
      "Epoch 1:\n",
      "\tTrain: Average Accuracy: 0.11006666666666666\tAverage Loss: 2.8521557735190823\n",
      "\tTest: Average Accuracy: 0.14807658137882018\tAverage Loss: 2.7583080278136807\n",
      "Epoch 2:\n",
      "\tTrain: Average Accuracy: 0.21188333333333334\tAverage Loss: 2.5646399749608952\n",
      "\tTest: Average Accuracy: 0.26661336176261546\tAverage Loss: 2.4615347512933865\n",
      "Epoch 3:\n",
      "\tTrain: Average Accuracy: 0.3474\tAverage Loss: 2.223278073327692\n",
      "\tTest: Average Accuracy: 0.40282960199004975\tAverage Loss: 2.1149153783414403\n",
      "Epoch 4:\n",
      "\tTrain: Average Accuracy: 0.4423\tAverage Loss: 1.919257836004228\n",
      "\tTest: Average Accuracy: 0.4722370291400142\tAverage Loss: 1.8688957753999291\n",
      "Epoch 5:\n",
      "\tTrain: Average Accuracy: 0.5041333333333333\tAverage Loss: 1.7053225594302863\n",
      "\tTest: Average Accuracy: 0.5007329424307037\tAverage Loss: 1.725341349891125\n",
      "Epoch 6:\n",
      "\tTrain: Average Accuracy: 0.5480333333333334\tAverage Loss: 1.5474212990541132\n",
      "\tTest: Average Accuracy: 0.5053527007818053\tAverage Loss: 1.6870445843829471\n",
      "Epoch 7:\n",
      "\tTrain: Average Accuracy: 0.5775\tAverage Loss: 1.4479156499330836\n",
      "\tTest: Average Accuracy: 0.5420886638237384\tAverage Loss: 1.577827959518918\n",
      "Epoch 8:\n",
      "\tTrain: Average Accuracy: 0.5969833333333333\tAverage Loss: 1.3731634791574372\n",
      "\tTest: Average Accuracy: 0.5654539800995025\tAverage Loss: 1.5256412263998933\n",
      "Epoch 9:\n",
      "\tTrain: Average Accuracy: 0.61625\tAverage Loss: 1.3034158384847654\n",
      "\tTest: Average Accuracy: 0.5754486496090974\tAverage Loss: 1.4762680339185703\n",
      "Epoch 10:\n",
      "\tTrain: Average Accuracy: 0.63285\tAverage Loss: 1.2505214713343586\n",
      "\tTest: Average Accuracy: 0.5842217484008528\tAverage Loss: 1.4491594832895782\n",
      "Epoch 11:\n",
      "\tTrain: Average Accuracy: 0.6435166666666666\tAverage Loss: 1.217872779377319\n",
      "\tTest: Average Accuracy: 0.5942386282871358\tAverage Loss: 1.4110251468364425\n",
      "Epoch 12:\n",
      "\tTrain: Average Accuracy: 0.6573333333333333\tAverage Loss: 1.169053887382756\n",
      "\tTest: Average Accuracy: 0.5971703980099503\tAverage Loss: 1.4112310930238965\n",
      "Epoch 13:\n",
      "\tTrain: Average Accuracy: 0.6648333333333334\tAverage Loss: 1.1398892284244422\n",
      "\tTest: Average Accuracy: 0.6091417910447762\tAverage Loss: 1.3582777113931095\n",
      "Epoch 14:\n",
      "\tTrain: Average Accuracy: 0.6724\tAverage Loss: 1.1154386422743436\n",
      "\tTest: Average Accuracy: 0.6190031982942431\tAverage Loss: 1.3394222288921556\n",
      "Epoch 15:\n",
      "\tTrain: Average Accuracy: 0.6811\tAverage Loss: 1.0877685945241096\n",
      "\tTest: Average Accuracy: 0.6193585643212509\tAverage Loss: 1.3166533229650939\n",
      "Epoch 16:\n",
      "\tTrain: Average Accuracy: 0.6869333333333333\tAverage Loss: 1.070482853292474\n",
      "\tTest: Average Accuracy: 0.6317741648898365\tAverage Loss: 1.2851070188035063\n",
      "Epoch 17:\n",
      "\tTrain: Average Accuracy: 0.6943\tAverage Loss: 1.0496805670926557\n",
      "\tTest: Average Accuracy: 0.6383928571428571\tAverage Loss: 1.279366631148679\n",
      "Epoch 18:\n",
      "\tTrain: Average Accuracy: 0.7017\tAverage Loss: 1.0222289880770794\n",
      "\tTest: Average Accuracy: 0.6390813788201848\tAverage Loss: 1.261785773884691\n",
      "Epoch 19:\n",
      "\tTrain: Average Accuracy: 0.7044833333333334\tAverage Loss: 1.010213429292888\n",
      "\tTest: Average Accuracy: 0.6325293176972282\tAverage Loss: 1.2841609359580997\n",
      "Epoch 20:\n",
      "\tTrain: Average Accuracy: 0.70965\tAverage Loss: 0.9925877009062568\n",
      "\tTest: Average Accuracy: 0.6452336531627576\tAverage Loss: 1.2436914424845487\n",
      "Epoch 21:\n",
      "\tTrain: Average Accuracy: 0.7131666666666666\tAverage Loss: 0.9805470523757663\n",
      "\tTest: Average Accuracy: 0.6461886993603412\tAverage Loss: 1.2350518068076093\n",
      "Epoch 22:\n",
      "\tTrain: Average Accuracy: 0.7151666666666666\tAverage Loss: 0.9741351146383403\n",
      "\tTest: Average Accuracy: 0.6510749822316987\tAverage Loss: 1.2166454311355361\n",
      "Epoch 23:\n",
      "\tTrain: Average Accuracy: 0.7233833333333334\tAverage Loss: 0.95053178210331\n",
      "\tTest: Average Accuracy: 0.656183368869936\tAverage Loss: 1.2118888575610505\n",
      "Epoch 24:\n",
      "\tTrain: Average Accuracy: 0.7260833333333333\tAverage Loss: 0.9413494045386438\n",
      "\tTest: Average Accuracy: 0.6547619047619048\tAverage Loss: 1.2032793912844673\n",
      "Epoch 25:\n",
      "\tTrain: Average Accuracy: 0.7275666666666667\tAverage Loss: 0.9301930917401385\n",
      "\tTest: Average Accuracy: 0.6648232054015636\tAverage Loss: 1.179645206393442\n",
      "Epoch 26:\n",
      "\tTrain: Average Accuracy: 0.7348166666666667\tAverage Loss: 0.9190244353353667\n",
      "\tTest: Average Accuracy: 0.6697539090262971\tAverage Loss: 1.159250095371232\n",
      "Epoch 27:\n",
      "\tTrain: Average Accuracy: 0.73445\tAverage Loss: 0.9121916222718617\n",
      "\tTest: Average Accuracy: 0.6735296730632552\tAverage Loss: 1.153926556555893\n",
      "Epoch 28:\n",
      "\tTrain: Average Accuracy: 0.7375833333333334\tAverage Loss: 0.9012127501036632\n",
      "\tTest: Average Accuracy: 0.671686211798152\tAverage Loss: 1.153851414615202\n",
      "Epoch 29:\n",
      "\tTrain: Average Accuracy: 0.7397166666666667\tAverage Loss: 0.8916274768871791\n",
      "\tTest: Average Accuracy: 0.6742181947405828\tAverage Loss: 1.1450513965957652\n",
      "Epoch 30:\n",
      "\tTrain: Average Accuracy: 0.74235\tAverage Loss: 0.8875655200217645\n",
      "\tTest: Average Accuracy: 0.6812144633972992\tAverage Loss: 1.128260230955925\n",
      "Epoch 31:\n",
      "\tTrain: Average Accuracy: 0.7456333333333334\tAverage Loss: 0.8732262001223916\n",
      "\tTest: Average Accuracy: 0.6828802416488984\tAverage Loss: 1.1204842044068213\n",
      "Epoch 32:\n",
      "\tTrain: Average Accuracy: 0.7485166666666667\tAverage Loss: 0.8686947318835045\n",
      "\tTest: Average Accuracy: 0.6841684434968017\tAverage Loss: 1.1151228561001147\n",
      "Epoch 33:\n",
      "\tTrain: Average Accuracy: 0.7512666666666666\tAverage Loss: 0.8566300823116462\n",
      "\tTest: Average Accuracy: 0.6884550461975836\tAverage Loss: 1.102567442844535\n",
      "Epoch 34:\n",
      "\tTrain: Average Accuracy: 0.755\tAverage Loss: 0.8455519505109071\n",
      "\tTest: Average Accuracy: 0.6878775764036957\tAverage Loss: 1.0992300562064634\n",
      "Epoch 35:\n",
      "\tTrain: Average Accuracy: 0.7562166666666666\tAverage Loss: 0.8435901161166488\n",
      "\tTest: Average Accuracy: 0.6869225302061124\tAverage Loss: 1.1145152257944784\n",
      "Epoch 36:\n",
      "\tTrain: Average Accuracy: 0.7586333333333334\tAverage Loss: 0.8357779661918476\n",
      "\tTest: Average Accuracy: 0.6900319829424307\tAverage Loss: 1.094748163161583\n",
      "Epoch 37:\n",
      "\tTrain: Average Accuracy: 0.7598\tAverage Loss: 0.8295277348403731\n",
      "\tTest: Average Accuracy: 0.6985829779673064\tAverage Loss: 1.072112825592266\n",
      "Epoch 38:\n",
      "\tTrain: Average Accuracy: 0.7621833333333333\tAverage Loss: 0.823865423297927\n",
      "\tTest: Average Accuracy: 0.6961842572850035\tAverage Loss: 1.075776448624729\n",
      "Epoch 39:\n",
      "\tTrain: Average Accuracy: 0.7650333333333333\tAverage Loss: 0.8145746931313183\n",
      "\tTest: Average Accuracy: 0.697161513859275\tAverage Loss: 1.0708296407713458\n",
      "Epoch 40:\n",
      "\tTrain: Average Accuracy: 0.7629666666666667\tAverage Loss: 0.8141528720405278\n",
      "\tTest: Average Accuracy: 0.7004042288557214\tAverage Loss: 1.0654399520586415\n",
      "Epoch 41:\n",
      "\tTrain: Average Accuracy: 0.76655\tAverage Loss: 0.8047396803605417\n",
      "\tTest: Average Accuracy: 0.7004264392324094\tAverage Loss: 1.055908184304604\n",
      "Epoch 42:\n",
      "\tTrain: Average Accuracy: 0.7696166666666666\tAverage Loss: 0.7978697854636464\n",
      "\tTest: Average Accuracy: 0.7024475835110164\tAverage Loss: 1.053282678195497\n",
      "Epoch 43:\n",
      "\tTrain: Average Accuracy: 0.7675166666666666\tAverage Loss: 0.7940541027239546\n",
      "\tTest: Average Accuracy: 0.7015369580668088\tAverage Loss: 1.056127444193138\n",
      "Epoch 44:\n",
      "\tTrain: Average Accuracy: 0.77175\tAverage Loss: 0.7904142189801895\n",
      "\tTest: Average Accuracy: 0.7062233475479744\tAverage Loss: 1.0355165371446418\n",
      "Epoch 45:\n",
      "\tTrain: Average Accuracy: 0.7724333333333333\tAverage Loss: 0.7828718113526698\n",
      "\tTest: Average Accuracy: 0.7056236673773987\tAverage Loss: 1.0332635240323562\n",
      "Epoch 46:\n",
      "\tTrain: Average Accuracy: 0.7737333333333334\tAverage Loss: 0.7804901162314558\n",
      "\tTest: Average Accuracy: 0.7077336531627576\tAverage Loss: 1.0330672180400144\n",
      "Epoch 47:\n",
      "\tTrain: Average Accuracy: 0.77565\tAverage Loss: 0.7708864620492012\n",
      "\tTest: Average Accuracy: 0.7083777540867093\tAverage Loss: 1.0275507916612998\n",
      "Epoch 48:\n",
      "\tTrain: Average Accuracy: 0.7772\tAverage Loss: 0.7669665313048798\n",
      "\tTest: Average Accuracy: 0.7136416133617627\tAverage Loss: 1.0160819289701728\n",
      "Epoch 49:\n",
      "\tTrain: Average Accuracy: 0.7758166666666667\tAverage Loss: 0.7713502695824349\n",
      "\tTest: Average Accuracy: 0.7142190831556503\tAverage Loss: 1.0112236595611845\n",
      "Epoch 50:\n",
      "\tTrain: Average Accuracy: 0.78015\tAverage Loss: 0.7609669475412356\n",
      "\tTest: Average Accuracy: 0.7103100568585644\tAverage Loss: 1.0198572231612422\n",
      "Epoch 51:\n",
      "\tTrain: Average Accuracy: 0.7813833333333333\tAverage Loss: 0.7532366389621047\n",
      "\tTest: Average Accuracy: 0.7163512793176973\tAverage Loss: 1.0027256605904733\n",
      "Epoch 52:\n",
      "\tTrain: Average Accuracy: 0.7839833333333334\tAverage Loss: 0.7447435522670178\n",
      "\tTest: Average Accuracy: 0.7122201492537313\tAverage Loss: 1.0136695772182218\n",
      "Epoch 53:\n",
      "\tTrain: Average Accuracy: 0.7836\tAverage Loss: 0.7483312399170727\n",
      "\tTest: Average Accuracy: 0.7179948471926083\tAverage Loss: 0.9934866653009168\n",
      "Epoch 54:\n",
      "\tTrain: Average Accuracy: 0.7855833333333333\tAverage Loss: 0.7454583908588007\n",
      "\tTest: Average Accuracy: 0.7192386282871358\tAverage Loss: 0.9896759930532397\n",
      "Epoch 55:\n",
      "\tTrain: Average Accuracy: 0.7844\tAverage Loss: 0.7436981124176868\n",
      "\tTest: Average Accuracy: 0.718705579246624\tAverage Loss: 0.9911679015184385\n",
      "Epoch 56:\n",
      "\tTrain: Average Accuracy: 0.7870166666666667\tAverage Loss: 0.736586583170484\n",
      "\tTest: Average Accuracy: 0.7220371357498223\tAverage Loss: 0.9763592346701498\n",
      "Epoch 57:\n",
      "\tTrain: Average Accuracy: 0.7892\tAverage Loss: 0.7283340395970964\n",
      "\tTest: Average Accuracy: 0.7198160980810234\tAverage Loss: 0.9808293112761516\n",
      "Epoch 58:\n",
      "\tTrain: Average Accuracy: 0.7918833333333334\tAverage Loss: 0.7245817347140604\n",
      "\tTest: Average Accuracy: 0.7220149253731343\tAverage Loss: 0.9827682994352162\n",
      "Epoch 59:\n",
      "\tTrain: Average Accuracy: 0.79185\tAverage Loss: 0.7185761761217576\n",
      "\tTest: Average Accuracy: 0.7243914356787491\tAverage Loss: 0.9749478123033302\n",
      "Epoch 60:\n",
      "\tTrain: Average Accuracy: 0.7893166666666667\tAverage Loss: 0.723847548976916\n",
      "\tTest: Average Accuracy: 0.7264125799573561\tAverage Loss: 0.9674284759388391\n",
      "Epoch 61:\n",
      "\tTrain: Average Accuracy: 0.79275\tAverage Loss: 0.7135216412632689\n",
      "\tTest: Average Accuracy: 0.7234585998578535\tAverage Loss: 0.9731715495045492\n",
      "Epoch 62:\n",
      "\tTrain: Average Accuracy: 0.7953166666666667\tAverage Loss: 0.7106222071330761\n",
      "\tTest: Average Accuracy: 0.7253020611229567\tAverage Loss: 0.9726170704649642\n",
      "Epoch 63:\n",
      "\tTrain: Average Accuracy: 0.7947\tAverage Loss: 0.7038714803935103\n",
      "\tTest: Average Accuracy: 0.7288779317697228\tAverage Loss: 0.9546320042007693\n",
      "Epoch 64:\n",
      "\tTrain: Average Accuracy: 0.7967833333333333\tAverage Loss: 0.7026210448903412\n",
      "\tTest: Average Accuracy: 0.7322316986496091\tAverage Loss: 0.9434322496295975\n",
      "Epoch 65:\n",
      "\tTrain: Average Accuracy: 0.7969\tAverage Loss: 0.6989589267522751\n",
      "\tTest: Average Accuracy: 0.7315209665955934\tAverage Loss: 0.9526043223534036\n",
      "Epoch 66:\n",
      "\tTrain: Average Accuracy: 0.7972166666666667\tAverage Loss: 0.6970719007503307\n",
      "\tTest: Average Accuracy: 0.7293665600568586\tAverage Loss: 0.9544465326025657\n",
      "Epoch 67:\n",
      "\tTrain: Average Accuracy: 0.80055\tAverage Loss: 0.6924245874784266\n",
      "\tTest: Average Accuracy: 0.7347192608386638\tAverage Loss: 0.9420651712291395\n",
      "Epoch 68:\n",
      "\tTrain: Average Accuracy: 0.8018333333333333\tAverage Loss: 0.687649061784252\n",
      "\tTest: Average Accuracy: 0.7342306325515281\tAverage Loss: 0.9372940211457552\n",
      "Epoch 69:\n",
      "\tTrain: Average Accuracy: 0.8015833333333333\tAverage Loss: 0.6848667821152392\n",
      "\tTest: Average Accuracy: 0.7352967306325515\tAverage Loss: 0.9355546639863952\n",
      "Epoch 70:\n",
      "\tTrain: Average Accuracy: 0.80175\tAverage Loss: 0.6890338395360144\n",
      "\tTest: Average Accuracy: 0.7311433901918977\tAverage Loss: 0.938993056589614\n",
      "Epoch 71:\n",
      "\tTrain: Average Accuracy: 0.8015\tAverage Loss: 0.6821362071353094\n",
      "\tTest: Average Accuracy: 0.7328313788201848\tAverage Loss: 0.9377582427498339\n",
      "Epoch 72:\n",
      "\tTrain: Average Accuracy: 0.80405\tAverage Loss: 0.6776956709010717\n",
      "\tTest: Average Accuracy: 0.7338086353944563\tAverage Loss: 0.9314418203254908\n",
      "Epoch 73:\n",
      "\tTrain: Average Accuracy: 0.8071666666666667\tAverage Loss: 0.6709415413848414\n",
      "\tTest: Average Accuracy: 0.7394500710732054\tAverage Loss: 0.9254843905212167\n",
      "Epoch 74:\n",
      "\tTrain: Average Accuracy: 0.8062666666666667\tAverage Loss: 0.668978769096446\n",
      "\tTest: Average Accuracy: 0.7394500710732054\tAverage Loss: 0.9241065460744559\n",
      "Epoch 75:\n",
      "\tTrain: Average Accuracy: 0.8072166666666667\tAverage Loss: 0.6652657281111276\n",
      "\tTest: Average Accuracy: 0.7393612295664534\tAverage Loss: 0.9166799632032705\n",
      "Epoch 76:\n",
      "\tTrain: Average Accuracy: 0.8090333333333334\tAverage Loss: 0.6623459896973738\n",
      "\tTest: Average Accuracy: 0.7409603766879886\tAverage Loss: 0.9121208649489797\n",
      "Epoch 77:\n",
      "\tTrain: Average Accuracy: 0.8089666666666666\tAverage Loss: 0.6609094481653932\n",
      "\tTest: Average Accuracy: 0.7398276474769012\tAverage Loss: 0.9127895957581227\n",
      "Epoch 78:\n",
      "\tTrain: Average Accuracy: 0.8087666666666666\tAverage Loss: 0.6581568557335639\n",
      "\tTest: Average Accuracy: 0.7453358208955224\tAverage Loss: 0.9044038904986283\n",
      "Epoch 79:\n",
      "\tTrain: Average Accuracy: 0.8094333333333333\tAverage Loss: 0.6557832324264606\n",
      "\tTest: Average Accuracy: 0.7413601634683724\tAverage Loss: 0.9115924176598964\n",
      "Epoch 80:\n",
      "\tTrain: Average Accuracy: 0.81075\tAverage Loss: 0.6547886302972876\n",
      "\tTest: Average Accuracy: 0.7446250888415068\tAverage Loss: 0.9064920630501011\n",
      "Epoch 81:\n",
      "\tTrain: Average Accuracy: 0.8097333333333333\tAverage Loss: 0.6523686788945868\n",
      "\tTest: Average Accuracy: 0.7463352878464818\tAverage Loss: 0.892613771807641\n",
      "Epoch 82:\n",
      "\tTrain: Average Accuracy: 0.8121833333333334\tAverage Loss: 0.6490104555822693\n",
      "\tTest: Average Accuracy: 0.7446250888415068\tAverage Loss: 0.900327432737918\n",
      "Epoch 83:\n",
      "\tTrain: Average Accuracy: 0.8117833333333333\tAverage Loss: 0.6459518182573505\n",
      "\tTest: Average Accuracy: 0.7436034115138592\tAverage Loss: 0.9038223079569963\n",
      "Epoch 84:\n",
      "\tTrain: Average Accuracy: 0.81345\tAverage Loss: 0.6437980802031139\n",
      "\tTest: Average Accuracy: 0.7468683368869936\tAverage Loss: 0.8943663972966232\n",
      "Epoch 85:\n",
      "\tTrain: Average Accuracy: 0.8152333333333334\tAverage Loss: 0.6446881646021495\n",
      "\tTest: Average Accuracy: 0.7484452736318408\tAverage Loss: 0.8931361591869106\n",
      "Epoch 86:\n",
      "\tTrain: Average Accuracy: 0.81445\tAverage Loss: 0.6384331948576835\n",
      "\tTest: Average Accuracy: 0.7466684434968017\tAverage Loss: 0.8925928192266578\n",
      "Epoch 87:\n",
      "\tTrain: Average Accuracy: 0.8165333333333333\tAverage Loss: 0.6412981544151237\n",
      "\tTest: Average Accuracy: 0.7443585643212509\tAverage Loss: 0.9018962371873578\n",
      "Epoch 88:\n",
      "\tTrain: Average Accuracy: 0.8137\tAverage Loss: 0.6387940953942867\n",
      "\tTest: Average Accuracy: 0.7465129708599857\tAverage Loss: 0.8926248958761823\n",
      "Epoch 89:\n",
      "\tTrain: Average Accuracy: 0.81605\tAverage Loss: 0.6369214092310375\n",
      "\tTest: Average Accuracy: 0.7465573916133618\tAverage Loss: 0.8886883592552979\n",
      "Epoch 90:\n",
      "\tTrain: Average Accuracy: 0.8167333333333333\tAverage Loss: 0.6338765119810632\n",
      "\tTest: Average Accuracy: 0.748223169864961\tAverage Loss: 0.8826545471797357\n",
      "Epoch 91:\n",
      "\tTrain: Average Accuracy: 0.8173333333333334\tAverage Loss: 0.6298594100601758\n",
      "\tTest: Average Accuracy: 0.7486895877754087\tAverage Loss: 0.8907510951624612\n",
      "Epoch 92:\n",
      "\tTrain: Average Accuracy: 0.8172666666666667\tAverage Loss: 0.6288686777493844\n",
      "\tTest: Average Accuracy: 0.7501776830135038\tAverage Loss: 0.8882714701746451\n",
      "Epoch 93:\n",
      "\tTrain: Average Accuracy: 0.81815\tAverage Loss: 0.6252189944738907\n",
      "\tTest: Average Accuracy: 0.7486229566453447\tAverage Loss: 0.8839194322363041\n",
      "Epoch 94:\n",
      "\tTrain: Average Accuracy: 0.8206833333333333\tAverage Loss: 0.6205758959942174\n",
      "\tTest: Average Accuracy: 0.7521766169154228\tAverage Loss: 0.8767281597780247\n",
      "Epoch 95:\n",
      "\tTrain: Average Accuracy: 0.8210666666666666\tAverage Loss: 0.6217874209199407\n",
      "\tTest: Average Accuracy: 0.7536202914001422\tAverage Loss: 0.8695339109432264\n",
      "Epoch 96:\n",
      "\tTrain: Average Accuracy: 0.8210833333333334\tAverage Loss: 0.6193655419368829\n",
      "\tTest: Average Accuracy: 0.7514658848614072\tAverage Loss: 0.8784509865399522\n",
      "Epoch 97:\n",
      "\tTrain: Average Accuracy: 0.82305\tAverage Loss: 0.6115308153248875\n",
      "\tTest: Average Accuracy: 0.7536425017768301\tAverage Loss: 0.8720171141031936\n",
      "Epoch 98:\n",
      "\tTrain: Average Accuracy: 0.8225833333333333\tAverage Loss: 0.6151758555739525\n",
      "\tTest: Average Accuracy: 0.7547752309879175\tAverage Loss: 0.8680711976805267\n",
      "Epoch 99:\n",
      "\tTrain: Average Accuracy: 0.8224\tAverage Loss: 0.6108002668245486\n",
      "\tTest: Average Accuracy: 0.7556636460554371\tAverage Loss: 0.8609141720575307\n",
      "Epoch 100:\n",
      "\tTrain: Average Accuracy: 0.8239666666666666\tAverage Loss: 0.6121633965042762\n",
      "\tTest: Average Accuracy: 0.7542643923240938\tAverage Loss: 0.8656982412363392\n",
      "Epoch 101:\n",
      "\tTrain: Average Accuracy: 0.8237666666666666\tAverage Loss: 0.609361083818631\n",
      "\tTest: Average Accuracy: 0.7521988272921108\tAverage Loss: 0.8685707492233575\n",
      "Epoch 102:\n",
      "\tTrain: Average Accuracy: 0.8273833333333334\tAverage Loss: 0.6039615016346392\n",
      "\tTest: Average Accuracy: 0.7530428216062544\tAverage Loss: 0.8701491048389282\n",
      "Epoch 103:\n",
      "\tTrain: Average Accuracy: 0.8261666666666667\tAverage Loss: 0.6022649283511246\n",
      "\tTest: Average Accuracy: 0.7565964818763327\tAverage Loss: 0.8615674359409357\n",
      "Epoch 104:\n",
      "\tTrain: Average Accuracy: 0.8238333333333333\tAverage Loss: 0.6051641784745033\n",
      "\tTest: Average Accuracy: 0.7579068941009239\tAverage Loss: 0.8574664069327165\n",
      "Epoch 105:\n",
      "\tTrain: Average Accuracy: 0.8268666666666666\tAverage Loss: 0.6001857759417966\n",
      "\tTest: Average Accuracy: 0.755819118692253\tAverage Loss: 0.8651028835296668\n",
      "Epoch 106:\n",
      "\tTrain: Average Accuracy: 0.8270166666666666\tAverage Loss: 0.5992618225376289\n",
      "\tTest: Average Accuracy: 0.7551305970149254\tAverage Loss: 0.8595904518591914\n",
      "Epoch 107:\n",
      "\tTrain: Average Accuracy: 0.8287\tAverage Loss: 0.5951536522205607\n",
      "\tTest: Average Accuracy: 0.7550861762615494\tAverage Loss: 0.8621236832818281\n",
      "Epoch 108:\n",
      "\tTrain: Average Accuracy: 0.8276166666666667\tAverage Loss: 0.5971163911932185\n",
      "\tTest: Average Accuracy: 0.7543976545842217\tAverage Loss: 0.861711850384787\n",
      "Epoch 109:\n",
      "\tTrain: Average Accuracy: 0.83045\tAverage Loss: 0.5908941074394437\n",
      "\tTest: Average Accuracy: 0.7581734186211798\tAverage Loss: 0.8508275414072922\n",
      "Epoch 110:\n",
      "\tTrain: Average Accuracy: 0.8291\tAverage Loss: 0.5920512697871134\n",
      "\tTest: Average Accuracy: 0.7585732054015636\tAverage Loss: 0.8521670993243249\n",
      "Epoch 111:\n",
      "\tTrain: Average Accuracy: 0.8284666666666667\tAverage Loss: 0.591309554042098\n",
      "\tTest: Average Accuracy: 0.7509328358208955\tAverage Loss: 0.8656152592652662\n",
      "Epoch 112:\n",
      "\tTrain: Average Accuracy: 0.8303333333333334\tAverage Loss: 0.5876664895797516\n",
      "\tTest: Average Accuracy: 0.757884683724236\tAverage Loss: 0.856561265185081\n",
      "Epoch 113:\n",
      "\tTrain: Average Accuracy: 0.82905\tAverage Loss: 0.588996237784445\n",
      "\tTest: Average Accuracy: 0.759705934612651\tAverage Loss: 0.8515393951411442\n",
      "Epoch 114:\n",
      "\tTrain: Average Accuracy: 0.8300666666666666\tAverage Loss: 0.5831542972883225\n",
      "\tTest: Average Accuracy: 0.7611718194740582\tAverage Loss: 0.8438376459708118\n",
      "Epoch 115:\n",
      "\tTrain: Average Accuracy: 0.8320666666666666\tAverage Loss: 0.5839362487794517\n",
      "\tTest: Average Accuracy: 0.7611051883439943\tAverage Loss: 0.8433975031860295\n",
      "Epoch 116:\n",
      "\tTrain: Average Accuracy: 0.8322833333333334\tAverage Loss: 0.581358517363154\n",
      "\tTest: Average Accuracy: 0.7605499289267946\tAverage Loss: 0.844500163131772\n",
      "Epoch 117:\n",
      "\tTrain: Average Accuracy: 0.8325166666666667\tAverage Loss: 0.5799707808457228\n",
      "\tTest: Average Accuracy: 0.7581289978678039\tAverage Loss: 0.8518979654154946\n",
      "Epoch 118:\n",
      "\tTrain: Average Accuracy: 0.83165\tAverage Loss: 0.5794003883734369\n",
      "\tTest: Average Accuracy: 0.7619936034115139\tAverage Loss: 0.8408129869842059\n",
      "Epoch 119:\n",
      "\tTrain: Average Accuracy: 0.8324666666666667\tAverage Loss: 0.5775031238275266\n",
      "\tTest: Average Accuracy: 0.7607276119402985\tAverage Loss: 0.8456559855854847\n",
      "Epoch 120:\n",
      "\tTrain: Average Accuracy: 0.8325\tAverage Loss: 0.5785821848371188\n",
      "\tTest: Average Accuracy: 0.7627043354655294\tAverage Loss: 0.844927208970311\n",
      "Epoch 121:\n",
      "\tTrain: Average Accuracy: 0.83285\tAverage Loss: 0.5764324123332726\n",
      "\tTest: Average Accuracy: 0.7608386638237384\tAverage Loss: 0.8366786375345802\n",
      "Epoch 122:\n",
      "\tTrain: Average Accuracy: 0.8342333333333334\tAverage Loss: 0.5723479713634025\n",
      "\tTest: Average Accuracy: 0.7648365316275764\tAverage Loss: 0.8315789046991405\n",
      "Epoch 123:\n",
      "\tTrain: Average Accuracy: 0.8346833333333333\tAverage Loss: 0.5744377452790725\n",
      "\tTest: Average Accuracy: 0.7628375977256574\tAverage Loss: 0.8366698062528259\n",
      "Epoch 124:\n",
      "\tTrain: Average Accuracy: 0.834\tAverage Loss: 0.5705093706895316\n",
      "\tTest: Average Accuracy: 0.7608164534470505\tAverage Loss: 0.8414956654482405\n",
      "Epoch 125:\n",
      "\tTrain: Average Accuracy: 0.8335\tAverage Loss: 0.5734781681129663\n",
      "\tTest: Average Accuracy: 0.7661691542288557\tAverage Loss: 0.825573832418943\n",
      "Epoch 126:\n",
      "\tTrain: Average Accuracy: 0.8355333333333334\tAverage Loss: 0.5672042875474693\n",
      "\tTest: Average Accuracy: 0.7625266524520256\tAverage Loss: 0.8290706505178288\n",
      "Epoch 127:\n",
      "\tTrain: Average Accuracy: 0.8342666666666667\tAverage Loss: 0.5694232291006003\n",
      "\tTest: Average Accuracy: 0.7630374911158493\tAverage Loss: 0.8295148576125234\n",
      "Epoch 128:\n",
      "\tTrain: Average Accuracy: 0.83645\tAverage Loss: 0.5628823740858397\n",
      "\tTest: Average Accuracy: 0.7634816986496091\tAverage Loss: 0.8287112190463787\n",
      "Epoch 129:\n",
      "\tTrain: Average Accuracy: 0.8375833333333333\tAverage Loss: 0.5611772435791991\n",
      "\tTest: Average Accuracy: 0.7607720326936744\tAverage Loss: 0.8363131871046494\n",
      "Epoch 130:\n",
      "\tTrain: Average Accuracy: 0.8386333333333333\tAverage Loss: 0.557989421649463\n",
      "\tTest: Average Accuracy: 0.7632151741293532\tAverage Loss: 0.832845774642191\n",
      "Epoch 131:\n",
      "\tTrain: Average Accuracy: 0.8369166666666666\tAverage Loss: 0.5626192300231083\n",
      "\tTest: Average Accuracy: 0.7650808457711443\tAverage Loss: 0.8237591664206715\n",
      "Epoch 132:\n",
      "\tTrain: Average Accuracy: 0.8380833333333333\tAverage Loss: 0.5563246427915789\n",
      "\tTest: Average Accuracy: 0.7649920042643923\tAverage Loss: 0.8295251990243943\n",
      "Epoch 133:\n",
      "\tTrain: Average Accuracy: 0.8376333333333333\tAverage Loss: 0.5587603264406944\n",
      "\tTest: Average Accuracy: 0.7653695806680881\tAverage Loss: 0.8306327484457569\n",
      "Epoch 134:\n",
      "\tTrain: Average Accuracy: 0.8380666666666666\tAverage Loss: 0.5596489750706957\n",
      "\tTest: Average Accuracy: 0.7645700071073205\tAverage Loss: 0.8276692161472389\n",
      "Epoch 135:\n",
      "\tTrain: Average Accuracy: 0.8391666666666666\tAverage Loss: 0.5568974718194338\n",
      "\tTest: Average Accuracy: 0.7653917910447762\tAverage Loss: 0.8275735637864164\n",
      "Epoch 136:\n",
      "\tTrain: Average Accuracy: 0.8399166666666666\tAverage Loss: 0.5556633550174128\n",
      "\tTest: Average Accuracy: 0.7683235607675906\tAverage Loss: 0.8191019307909112\n",
      "Epoch 137:\n",
      "\tTrain: Average Accuracy: 0.8392166666666667\tAverage Loss: 0.5523880611270798\n",
      "\tTest: Average Accuracy: 0.7688343994314143\tAverage Loss: 0.8258103407571431\n",
      "Epoch 138:\n",
      "\tTrain: Average Accuracy: 0.84055\tAverage Loss: 0.5510660934791801\n",
      "\tTest: Average Accuracy: 0.7652363184079601\tAverage Loss: 0.824684021257665\n",
      "Epoch 139:\n",
      "\tTrain: Average Accuracy: 0.84065\tAverage Loss: 0.5511953018214085\n",
      "\tTest: Average Accuracy: 0.7660581023454158\tAverage Loss: 0.8220338307363526\n",
      "Epoch 140:\n",
      "\tTrain: Average Accuracy: 0.8418166666666667\tAverage Loss: 0.5502744530494696\n",
      "\tTest: Average Accuracy: 0.767435145700071\tAverage Loss: 0.8154850010419591\n",
      "Epoch 141:\n",
      "\tTrain: Average Accuracy: 0.84085\tAverage Loss: 0.5473574510684317\n",
      "\tTest: Average Accuracy: 0.7661469438521677\tAverage Loss: 0.8165546605505886\n",
      "Epoch 142:\n",
      "\tTrain: Average Accuracy: 0.8401166666666666\tAverage Loss: 0.5485376905990272\n",
      "\tTest: Average Accuracy: 0.7688121890547264\tAverage Loss: 0.8119609584512627\n",
      "Epoch 143:\n",
      "\tTrain: Average Accuracy: 0.8419166666666666\tAverage Loss: 0.5443532259476542\n",
      "\tTest: Average Accuracy: 0.7679237739872068\tAverage Loss: 0.8155086180824005\n",
      "Epoch 144:\n",
      "\tTrain: Average Accuracy: 0.8438333333333333\tAverage Loss: 0.542715923868925\n",
      "\tTest: Average Accuracy: 0.771610696517413\tAverage Loss: 0.8051018283300645\n",
      "Epoch 145:\n",
      "\tTrain: Average Accuracy: 0.8422833333333334\tAverage Loss: 0.5426827404105363\n",
      "\tTest: Average Accuracy: 0.7682569296375267\tAverage Loss: 0.8139218068749005\n",
      "Epoch 146:\n",
      "\tTrain: Average Accuracy: 0.84315\tAverage Loss: 0.5436135595830233\n",
      "\tTest: Average Accuracy: 0.7719438521677328\tAverage Loss: 0.8081787993138542\n",
      "Epoch 147:\n",
      "\tTrain: Average Accuracy: 0.8440333333333333\tAverage Loss: 0.5394074448144933\n",
      "\tTest: Average Accuracy: 0.7703669154228855\tAverage Loss: 0.8108683593049737\n",
      "Epoch 148:\n",
      "\tTrain: Average Accuracy: 0.8440666666666666\tAverage Loss: 0.5387020569142905\n",
      "\tTest: Average Accuracy: 0.7672352523098791\tAverage Loss: 0.8141551176683074\n",
      "Epoch 149:\n",
      "\tTrain: Average Accuracy: 0.8433\tAverage Loss: 0.5410059795624543\n",
      "\tTest: Average Accuracy: 0.76965618336887\tAverage Loss: 0.8134388667066875\n",
      "Epoch 150:\n",
      "\tTrain: Average Accuracy: 0.84485\tAverage Loss: 0.5362421029041872\n",
      "\tTest: Average Accuracy: 0.7699671286425017\tAverage Loss: 0.8048596069618228\n"
     ]
    }
   ],
   "source": [
    "INPUT_SHAPE = 784\n",
    "LEARNING_RATE = 0.001\n",
    "EPOCHS = 150\n",
    "\n",
    "TRAINLOADER = Dataloader((normalized_train_data), (_train_label), 20, batch_size=32, shuffle=True)\n",
    "TESTLOADER = Dataloader((normalized_test_data), (_test_label), 20, batch_size=32, shuffle=True)\n",
    "\n",
    "\n",
    "network = FeedForwardNN(INPUT_SHAPE)\n",
    "network.add_layer(40, input_shape=INPUT_SHAPE, activation=LeakyRelu(), weight_initializer='uniform')\n",
    "network.add_layer(20, activation=LeakyRelu(), weight_initializer='uniform')\n",
    "network.set_training_param(loss=CrossEntropy(), lr=LEARNING_RATE)\n",
    "\n",
    "log = network.fit(EPOCHS, TRAINLOADER, TESTLOADER)"
   ]
  },
  {
   "cell_type": "code",
   "execution_count": 180,
   "id": "eaf621cb",
   "metadata": {},
   "outputs": [
    {
     "data": {
      "image/png": "[encoded data removed]",
      "text/plain": [
       "<Figure size 432x288 with 1 Axes>"
      ]
     },
     "metadata": {
      "needs_background": "light"
     },
     "output_type": "display_data"
    },
    {
     "data": {
      "image/png": "[encoded data removed]",
      "text/plain": [
       "<Figure size 432x288 with 1 Axes>"
      ]
     },
     "metadata": {
      "needs_background": "light"
     },
     "output_type": "display_data"
    }
   ],
   "source": [
    " epch=np.linspace(1,300,150)\n",
    "mpl.pyplot.figure(1)\n",
    "mpl.pyplot.plot(epch,log['train_accuracy'])\n",
    "mpl.pyplot.plot(epch,log['test_accuracy'])\n",
    "mpl.pyplot.legend([\"Train_Accuracy\",\"Test_Accuracy\"])\n",
    "mpl.pyplot.title(\"Accuracy\")\n",
    "mpl.pyplot.savefig(\"Step5-Accuracy.jpeg\")\n",
    "mpl.pyplot.show()\n",
    "mpl.pyplot.close()\n",
    "mpl.pyplot.figure(2)\n",
    "mpl.pyplot.plot(epch,log['train_loss'])\n",
    "mpl.pyplot.plot(epch,log['test_loss'])\n",
    "mpl.pyplot.legend([\"Train_Loss\",\"Test_Loss\"])\n",
    "mpl.pyplot.title(\"Loss\")\n",
    "mpl.pyplot.savefig(\"Step5-Loss.jpeg\")\n",
    "mpl.pyplot.show()\n",
    "mpl.pyplot.close()"
   ]
  },
  {
   "cell_type": "code",
   "execution_count": null,
   "id": "d6305a1b",
   "metadata": {},
   "outputs": [],
   "source": []
  }
 ],
 "metadata": {
  "kernelspec": {
   "display_name": "Python 3",
   "language": "python",
   "name": "python3"
  },
  "language_info": {
   "codemirror_mode": {
    "name": "ipython",
    "version": 3
   },
   "file_extension": ".py",
   "mimetype": "text/x-python",
   "name": "python",
   "nbconvert_exporter": "python",
   "pygments_lexer": "ipython3",
   "version": "3.7.0"
  }
 },
 "nbformat": 4,
 "nbformat_minor": 5
}
